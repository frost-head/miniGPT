{
 "cells": [
  {
   "cell_type": "code",
   "execution_count": 1,
   "metadata": {},
   "outputs": [],
   "source": [
    "import torch\n",
    "import torch.nn as nn\n",
    "from Model import model, modelArguments\n",
    "import time\n",
    "import re\n",
    "import math\n",
    "import triton\n"
   ]
  },
  {
   "cell_type": "code",
   "execution_count": 2,
   "metadata": {},
   "outputs": [
    {
     "name": "stderr",
     "output_type": "stream",
     "text": [
      "/tmp/ipykernel_1073/2029478873.py:3: FutureWarning: You are using `torch.load` with `weights_only=False` (the current default value), which uses the default pickle module implicitly. It is possible to construct malicious pickle data which will execute arbitrary code during unpickling (See https://github.com/pytorch/pytorch/blob/main/SECURITY.md#untrusted-models for more details). In a future release, the default value for `weights_only` will be flipped to `True`. This limits the functions that could be executed during unpickling. Arbitrary objects will no longer be allowed to be loaded via this mode unless they are explicitly allowlisted by the user via `torch.serialization.add_safe_globals`. We recommend you start setting `weights_only=True` for any use case where you don't have full control of the loaded file. Please open an issue on GitHub for any issues related to this experimental feature.\n",
      "  state_dict = torch.load('./checkpoints/model_weightsBPE0.pth')\n"
     ]
    }
   ],
   "source": [
    "fmodel = model(modelArguments)\n",
    "\n",
    "state_dict = torch.load('./checkpoints/model_weightsBPE0.pth')\n",
    "new_state_dict = {k.replace('_orig_mod.', ''): v for k, v in state_dict.items()}\n",
    "fmodel.load_state_dict(new_state_dict, strict=False)\n",
    "\n",
    "fmodel = fmodel.to('cuda')"
   ]
  },
  {
   "cell_type": "code",
   "execution_count": 3,
   "metadata": {},
   "outputs": [
    {
     "name": "stderr",
     "output_type": "stream",
     "text": [
      "/home/frosthead/.pyenv/versions/3.11.9/lib/python3.11/site-packages/tqdm/auto.py:21: TqdmWarning: IProgress not found. Please update jupyter and ipywidgets. See https://ipywidgets.readthedocs.io/en/stable/user_install.html\n",
      "  from .autonotebook import tqdm as notebook_tqdm\n",
      "/home/frosthead/.pyenv/versions/3.11.9/lib/python3.11/site-packages/transformers/tokenization_utils_base.py:1601: FutureWarning: `clean_up_tokenization_spaces` was not set. It will be set to `True` by default. This behavior will be depracted in transformers v4.45, and will be then set to `False` by default. For more details check this issue: https://github.com/huggingface/transformers/issues/31884\n",
      "  warnings.warn(\n"
     ]
    }
   ],
   "source": [
    "from transformers import PreTrainedTokenizerFast\n",
    "tokenizer = PreTrainedTokenizerFast(tokenizer_file=\"large_tokenizer.json\")\n",
    "\n",
    "\n",
    "def tokenize(text, second = False):\n",
    "    ids = tokenizer.encode(text, add_special_tokens=True)\n",
    "    ids1 = ids\n",
    "    ids1 = torch.tensor(ids1, dtype=torch.int16)\n",
    "    \n",
    "    # # Pad or truncate the sequence to tholtae max_seq_length\n",
    "    # if ids1.size(0) < modelArguments.max_seq_len:\n",
    "    #     padding_length = modelArguments.max_seq_len - ids1.size(0)\n",
    "    #     ids1 = torch.cat([ids1, torch.zeros(padding_length, dtype=torch.int16)])\n",
    "        \n",
    "    # elif ids1.size(0) >= modelArguments.max_seq_len:\n",
    "    #     ids1 = ids1[:modelArguments.max_seq_len]\n",
    "    #     ids1[-1] = 2\n",
    "    return ids1"
   ]
  },
  {
   "cell_type": "code",
   "execution_count": 4,
   "metadata": {},
   "outputs": [],
   "source": [
    "def id_to_token(x):\n",
    "    s = ''\n",
    "    for i in x[0]:\n",
    "        # j = torch.argmax(i)\n",
    "        s += tokenizer.decode(i)\n",
    "\n",
    "    return s\n",
    "\n",
    "def id_to_token_M(x):\n",
    "    s = ''\n",
    "    for i in x[0]:\n",
    "        j = torch.argmax(i)\n",
    "        s += tokenizer.decode(j)\n",
    "\n",
    "    return s"
   ]
  },
  {
   "cell_type": "code",
   "execution_count": 5,
   "metadata": {},
   "outputs": [
    {
     "data": {
      "text/plain": [
       "model(\n",
       "  (shared_emb): shared_emb()\n",
       "  (enc_layers): ModuleList(\n",
       "    (0-9): 10 x EncoderBlock(\n",
       "      (norm1): LayerNorm((512,), eps=1e-05, elementwise_affine=True)\n",
       "      (norm2): LayerNorm((512,), eps=1e-05, elementwise_affine=True)\n",
       "      (attention): FlashAttention(\n",
       "        (q_linear): Linear(in_features=512, out_features=512, bias=False)\n",
       "        (k_linear): Linear(in_features=512, out_features=512, bias=False)\n",
       "        (v_linear): Linear(in_features=512, out_features=512, bias=False)\n",
       "        (out_linear): Linear(in_features=512, out_features=512, bias=False)\n",
       "      )\n",
       "      (feedforward): FeedForward(\n",
       "        (fc1): Linear(in_features=512, out_features=2048, bias=False)\n",
       "        (fc2): Linear(in_features=2048, out_features=512, bias=False)\n",
       "        (dropout): Dropout(p=0.1, inplace=False)\n",
       "      )\n",
       "    )\n",
       "  )\n",
       "  (norm): LayerNorm((512,), eps=1e-05, elementwise_affine=True)\n",
       ")"
      ]
     },
     "execution_count": 5,
     "metadata": {},
     "output_type": "execute_result"
    }
   ],
   "source": [
    "fmodel.eval()"
   ]
  },
  {
   "cell_type": "code",
   "execution_count": null,
   "metadata": {},
   "outputs": [],
   "source": [
    "# test sentence\n",
    "\n",
    "sentence = \"\"\"share a fun fact\"\"\"\n",
    "generated_id  = tokenize(sentence).to(torch.long).to('cuda').unsqueeze(0)\n",
    "\n"
   ]
  },
  {
   "cell_type": "code",
   "execution_count": null,
   "metadata": {},
   "outputs": [
    {
     "name": "stdout",
     "output_type": "stream",
     "text": [
      "torch.Size([2, 196])\n"
     ]
    },
    {
     "ename": "RuntimeError",
     "evalue": "The size of tensor a (257) must match the size of tensor b (256) at non-singleton dimension 1",
     "output_type": "error",
     "traceback": [
      "\u001b[0;31m---------------------------------------------------------------------------\u001b[0m",
      "\u001b[0;31mRuntimeError\u001b[0m                              Traceback (most recent call last)",
      "Cell \u001b[0;32mIn[13], line 9\u001b[0m\n\u001b[1;32m      7\u001b[0m \u001b[38;5;28;01mfor\u001b[39;00m _ \u001b[38;5;129;01min\u001b[39;00m \u001b[38;5;28mrange\u001b[39m(\u001b[38;5;241m192\u001b[39m): \u001b[38;5;66;03m#modelArguments.max_seq_len-generated_ids.size(1)):  # Generate up to 20 tokens\u001b[39;00m\n\u001b[1;32m      8\u001b[0m     \u001b[38;5;28;01mwith\u001b[39;00m torch\u001b[38;5;241m.\u001b[39mno_grad():\n\u001b[0;32m----> 9\u001b[0m         logits \u001b[38;5;241m=\u001b[39m \u001b[43mfmodel\u001b[49m\u001b[43m(\u001b[49m\u001b[43mgenerated_ids\u001b[49m\u001b[43m)\u001b[49m  \u001b[38;5;66;03m# Pass the current sequence to the model\u001b[39;00m\n\u001b[1;32m     10\u001b[0m         next_token_logits \u001b[38;5;241m=\u001b[39m logits[:, \u001b[38;5;241m-\u001b[39m\u001b[38;5;241m1\u001b[39m, :]  \u001b[38;5;66;03m# Get logits for the last token\u001b[39;00m\n\u001b[1;32m     13\u001b[0m     \u001b[38;5;66;03m# Predict the next token (greedy decoding)\u001b[39;00m\n",
      "File \u001b[0;32m~/.pyenv/versions/3.11.9/lib/python3.11/site-packages/torch/nn/modules/module.py:1553\u001b[0m, in \u001b[0;36mModule._wrapped_call_impl\u001b[0;34m(self, *args, **kwargs)\u001b[0m\n\u001b[1;32m   1551\u001b[0m     \u001b[38;5;28;01mreturn\u001b[39;00m \u001b[38;5;28mself\u001b[39m\u001b[38;5;241m.\u001b[39m_compiled_call_impl(\u001b[38;5;241m*\u001b[39margs, \u001b[38;5;241m*\u001b[39m\u001b[38;5;241m*\u001b[39mkwargs)  \u001b[38;5;66;03m# type: ignore[misc]\u001b[39;00m\n\u001b[1;32m   1552\u001b[0m \u001b[38;5;28;01melse\u001b[39;00m:\n\u001b[0;32m-> 1553\u001b[0m     \u001b[38;5;28;01mreturn\u001b[39;00m \u001b[38;5;28;43mself\u001b[39;49m\u001b[38;5;241;43m.\u001b[39;49m\u001b[43m_call_impl\u001b[49m\u001b[43m(\u001b[49m\u001b[38;5;241;43m*\u001b[39;49m\u001b[43margs\u001b[49m\u001b[43m,\u001b[49m\u001b[43m \u001b[49m\u001b[38;5;241;43m*\u001b[39;49m\u001b[38;5;241;43m*\u001b[39;49m\u001b[43mkwargs\u001b[49m\u001b[43m)\u001b[49m\n",
      "File \u001b[0;32m~/.pyenv/versions/3.11.9/lib/python3.11/site-packages/torch/nn/modules/module.py:1562\u001b[0m, in \u001b[0;36mModule._call_impl\u001b[0;34m(self, *args, **kwargs)\u001b[0m\n\u001b[1;32m   1557\u001b[0m \u001b[38;5;66;03m# If we don't have any hooks, we want to skip the rest of the logic in\u001b[39;00m\n\u001b[1;32m   1558\u001b[0m \u001b[38;5;66;03m# this function, and just call forward.\u001b[39;00m\n\u001b[1;32m   1559\u001b[0m \u001b[38;5;28;01mif\u001b[39;00m \u001b[38;5;129;01mnot\u001b[39;00m (\u001b[38;5;28mself\u001b[39m\u001b[38;5;241m.\u001b[39m_backward_hooks \u001b[38;5;129;01mor\u001b[39;00m \u001b[38;5;28mself\u001b[39m\u001b[38;5;241m.\u001b[39m_backward_pre_hooks \u001b[38;5;129;01mor\u001b[39;00m \u001b[38;5;28mself\u001b[39m\u001b[38;5;241m.\u001b[39m_forward_hooks \u001b[38;5;129;01mor\u001b[39;00m \u001b[38;5;28mself\u001b[39m\u001b[38;5;241m.\u001b[39m_forward_pre_hooks\n\u001b[1;32m   1560\u001b[0m         \u001b[38;5;129;01mor\u001b[39;00m _global_backward_pre_hooks \u001b[38;5;129;01mor\u001b[39;00m _global_backward_hooks\n\u001b[1;32m   1561\u001b[0m         \u001b[38;5;129;01mor\u001b[39;00m _global_forward_hooks \u001b[38;5;129;01mor\u001b[39;00m _global_forward_pre_hooks):\n\u001b[0;32m-> 1562\u001b[0m     \u001b[38;5;28;01mreturn\u001b[39;00m \u001b[43mforward_call\u001b[49m\u001b[43m(\u001b[49m\u001b[38;5;241;43m*\u001b[39;49m\u001b[43margs\u001b[49m\u001b[43m,\u001b[49m\u001b[43m \u001b[49m\u001b[38;5;241;43m*\u001b[39;49m\u001b[38;5;241;43m*\u001b[39;49m\u001b[43mkwargs\u001b[49m\u001b[43m)\u001b[49m\n\u001b[1;32m   1564\u001b[0m \u001b[38;5;28;01mtry\u001b[39;00m:\n\u001b[1;32m   1565\u001b[0m     result \u001b[38;5;241m=\u001b[39m \u001b[38;5;28;01mNone\u001b[39;00m\n",
      "File \u001b[0;32m~/Projects/mGPT/miniGPT/Model.py:157\u001b[0m, in \u001b[0;36mmodel.forward\u001b[0;34m(self, in_token)\u001b[0m\n\u001b[1;32m    153\u001b[0m inp_embd \u001b[38;5;241m=\u001b[39m \u001b[38;5;28mself\u001b[39m\u001b[38;5;241m.\u001b[39mshared_emb\u001b[38;5;241m.\u001b[39membedding(in_token)\n\u001b[1;32m    154\u001b[0m \u001b[38;5;66;03m# inp_embd = F.dropout(inp_embd, self.args.dropout)\u001b[39;00m\n\u001b[1;32m    155\u001b[0m \u001b[38;5;66;03m# print(self.enc.shape)\u001b[39;00m\n\u001b[1;32m    156\u001b[0m \u001b[38;5;66;03m# print(inp_embd.shape)\u001b[39;00m\n\u001b[0;32m--> 157\u001b[0m inp_embd \u001b[38;5;241m=\u001b[39m \u001b[43minp_embd\u001b[49m\u001b[43m \u001b[49m\u001b[38;5;241;43m+\u001b[39;49m\u001b[43m \u001b[49m\u001b[38;5;28;43mself\u001b[39;49m\u001b[38;5;241;43m.\u001b[39;49m\u001b[43menc\u001b[49m\u001b[43m[\u001b[49m\u001b[43m:\u001b[49m\u001b[43minp_embd\u001b[49m\u001b[38;5;241;43m.\u001b[39;49m\u001b[43msize\u001b[49m\u001b[43m(\u001b[49m\u001b[38;5;241;43m1\u001b[39;49m\u001b[43m)\u001b[49m\u001b[43m,\u001b[49m\u001b[43m \u001b[49m\u001b[43m:\u001b[49m\u001b[43m]\u001b[49m\n\u001b[1;32m    158\u001b[0m \u001b[38;5;66;03m# print(freq.shape)\u001b[39;00m\n\u001b[1;32m    159\u001b[0m prev_layer \u001b[38;5;241m=\u001b[39m inp_embd\n",
      "\u001b[0;31mRuntimeError\u001b[0m: The size of tensor a (257) must match the size of tensor b (256) at non-singleton dimension 1"
     ]
    }
   ],
   "source": [
    "\n",
    "\n",
    "print(generated_ids.shape)\n",
    "# print(generated_ids)\n",
    "generated_ids = generated_id.repeat(2, 1)\n",
    "\n",
    "t0 = time.time()\n",
    "\n",
    "for _ in range(192): #modelArguments.max_seq_len-generated_ids.size(1)):  # Generate up to 20 tokens\n",
    "    with torch.no_grad():\n",
    "        logits = fmodel(generated_ids)  # Pass the current sequence to the model\n",
    "        next_token_logits = logits[:, -1, :]  # Get logits for the last token\n",
    "\n",
    "\n",
    "    # Predict the next token (greedy decoding)\n",
    "    next_token_id = torch.argmax(next_token_logits, dim=-1).unsqueeze(1)  # Shape: [1, 1]\n",
    "\n",
    "    # Append the predicted token to the sequence\n",
    "    generated_ids = torch.cat([generated_ids, next_token_id], dim=-1)\n",
    "\n",
    "    # Stop if EOS token is predicted\n",
    "    # if next_token_id.item() == 2:\n",
    "    #     print(\"eos\")\n",
    "    #     break\n",
    "\n",
    "t1 = time.time()\n",
    "# Decode the generated sequence\n",
    "output_text = tokenizer.decode(generated_ids[0])\n",
    "print(\"Generated text:\", output_text)\n",
    "t = (t1-t0)*1000\n",
    "print(\"time taken \", t)\n",
    "# generated_ids = generated_id.repeat(2, 1)\n"
   ]
  },
  {
   "cell_type": "code",
   "execution_count": 8,
   "metadata": {},
   "outputs": [
    {
     "data": {
      "text/plain": [
       "torch.Size([2, 196])"
      ]
     },
     "execution_count": 8,
     "metadata": {},
     "output_type": "execute_result"
    }
   ],
   "source": [
    "generated_ids.shape"
   ]
  },
  {
   "cell_type": "code",
   "execution_count": 9,
   "metadata": {},
   "outputs": [
    {
     "data": {
      "text/plain": [
       "torch.Size([2, 1])"
      ]
     },
     "execution_count": 9,
     "metadata": {},
     "output_type": "execute_result"
    }
   ],
   "source": [
    "next_token_id.shape"
   ]
  },
  {
   "cell_type": "code",
   "execution_count": 10,
   "metadata": {},
   "outputs": [
    {
     "name": "stdout",
     "output_type": "stream",
     "text": [
      "Generated text: share a fun fact.\n",
      "\n",
      "The most interesting fact is that the fact is that the fact is not a fact.\n",
      "\n",
      "The fact is that the fact is a fact.\n",
      "\n",
      "The fact is that the fact is a fact is a fact.\n",
      "\n",
      "The fact is a fact. It is not a fact.\n",
      "\n",
      "The fact is not a fact.\n",
      "\n",
      "The fact is that the fact is that the fact is not fact.\n",
      "\n",
      "The fact is fact.\n",
      "\n",
      "The fact is fact.\n",
      "\n",
      "The fact is fact.\n",
      "\n",
      "The fact that the fact is fact.\n",
      "\n",
      "The fact is fact.\n",
      "\n",
      "The fact is fact.\n",
      "\n",
      "The fact is fact.\n",
      "\n",
      "The fact is fact.\n",
      "\n",
      "The fact is fact. It is fact.\n",
      "\n",
      "The fact is fact.\n",
      "\n",
      "The fact is fact.\n",
      "\n",
      "The fact is fact.\n",
      "\n",
      "The fact is fact.\n",
      "\n",
      "The fact is fact.\n",
      "\n"
     ]
    }
   ],
   "source": [
    "output_text = tokenizer.decode(generated_ids[0])\n",
    "print(\"Generated text:\", output_text)"
   ]
  },
  {
   "cell_type": "code",
   "execution_count": 11,
   "metadata": {},
   "outputs": [
    {
     "name": "stdout",
     "output_type": "stream",
     "text": [
      "Generated text: share a fun fact.\n",
      "\n",
      "The fact that the fact that the fact is that the fact is not a fact.\n",
      "\n",
      "The fact that the fact that the fact is not a fact is a fact.\n",
      "\n",
      "The fact that the fact is not a fact is a fact. It is not a fact.\n",
      "\n",
      "The fact that the fact is a fact.\n",
      "\n",
      "The fact is that the fact is fact.\n",
      "\n",
      "The fact that the fact is fact is not a fact.\n",
      "\n",
      "The fact that the fact is not a fact.\n",
      "\n",
      "The fact that the fact is fact is fact.\n",
      "\n",
      "The fact is not a fact.\n",
      "\n",
      "The fact that the fact is fact.\n",
      "\n",
      "The fact is not a fact is fact.\n",
      "\n",
      "The fact is not fact.\n",
      "\n",
      "The fact is fact that the fact is fact.\n",
      "\n",
      "The fact is fact fact that the fact is fact.\n",
      "\n",
      "The fact is fact.\n",
      "\n",
      "The\n"
     ]
    }
   ],
   "source": [
    "output_text = tokenizer.decode(generated_ids[1])\n",
    "print(\"Generated text:\", output_text)"
   ]
  },
  {
   "cell_type": "code",
   "execution_count": 12,
   "metadata": {},
   "outputs": [
    {
     "ename": "IndexError",
     "evalue": "index 2 is out of bounds for dimension 0 with size 2",
     "output_type": "error",
     "traceback": [
      "\u001b[0;31m---------------------------------------------------------------------------\u001b[0m",
      "\u001b[0;31mIndexError\u001b[0m                                Traceback (most recent call last)",
      "Cell \u001b[0;32mIn[12], line 1\u001b[0m\n\u001b[0;32m----> 1\u001b[0m output_text \u001b[38;5;241m=\u001b[39m tokenizer\u001b[38;5;241m.\u001b[39mdecode(\u001b[43mgenerated_ids\u001b[49m\u001b[43m[\u001b[49m\u001b[38;5;241;43m2\u001b[39;49m\u001b[43m]\u001b[49m)\n\u001b[1;32m      2\u001b[0m \u001b[38;5;28mprint\u001b[39m(\u001b[38;5;124m\"\u001b[39m\u001b[38;5;124mGenerated text:\u001b[39m\u001b[38;5;124m\"\u001b[39m, output_text)\n",
      "\u001b[0;31mIndexError\u001b[0m: index 2 is out of bounds for dimension 0 with size 2"
     ]
    }
   ],
   "source": [
    "output_text = tokenizer.decode(generated_ids[2])\n",
    "print(\"Generated text:\", output_text)"
   ]
  },
  {
   "cell_type": "code",
   "execution_count": null,
   "metadata": {},
   "outputs": [
    {
     "name": "stdout",
     "output_type": "stream",
     "text": [
      "Generated text: share a fun fact.\n",
      "\n",
      "I want to use a simple formula to determine if the value of the value of the value of the value is a positive integer.\n",
      "\n",
      "I want to determine if the value of the value is a positive integer.\n",
      "\n",
      "I want to use a simple formula to determine if the value is a positive integer.\n",
      "\n",
      "I want to determine if the value of the value is a positive integer.\n",
      "\n",
      "I want to compare the value of the value of the value of the value.\n",
      "\n",
      "I want to compare the value of the value of the value.\n",
      "I want to compare the value of the value of the value.\n",
      "\n",
      "I want to compare the value of the value of the value of the value.\n",
      "\n",
      "I want to determine if the value is a positive integer.\n",
      "\n",
      "I want to compare the value of the value of the value.\n",
      "\n",
      "I want to compare the value of the value of the value of the\n"
     ]
    }
   ],
   "source": [
    "output_text = tokenizer.decode(generated_ids[3])\n",
    "print(\"Generated text:\", output_text)"
   ]
  },
  {
   "cell_type": "code",
   "execution_count": null,
   "metadata": {},
   "outputs": [],
   "source": []
  },
  {
   "cell_type": "code",
   "execution_count": null,
   "metadata": {},
   "outputs": [],
   "source": []
  },
  {
   "cell_type": "code",
   "execution_count": null,
   "metadata": {},
   "outputs": [],
   "source": []
  },
  {
   "cell_type": "code",
   "execution_count": null,
   "metadata": {},
   "outputs": [],
   "source": []
  }
 ],
 "metadata": {
  "kernelspec": {
   "display_name": "Python 3",
   "language": "python",
   "name": "python3"
  },
  "language_info": {
   "codemirror_mode": {
    "name": "ipython",
    "version": 3
   },
   "file_extension": ".py",
   "mimetype": "text/x-python",
   "name": "python",
   "nbconvert_exporter": "python",
   "pygments_lexer": "ipython3",
   "version": "3.11.9"
  }
 },
 "nbformat": 4,
 "nbformat_minor": 2
}
