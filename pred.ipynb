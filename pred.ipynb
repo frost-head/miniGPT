{
 "cells": [
  {
   "cell_type": "code",
   "execution_count": 1,
   "metadata": {},
   "outputs": [],
   "source": [
    "import torch\n",
    "import torch.nn as nn\n",
    "from Model import model, modelArguments\n",
    "import time\n",
    "import re\n",
    "import math\n",
    "import triton"
   ]
  },
  {
   "cell_type": "code",
   "execution_count": 2,
   "metadata": {},
   "outputs": [
    {
     "name": "stderr",
     "output_type": "stream",
     "text": [
      "/tmp/ipykernel_348/2029478873.py:3: FutureWarning: You are using `torch.load` with `weights_only=False` (the current default value), which uses the default pickle module implicitly. It is possible to construct malicious pickle data which will execute arbitrary code during unpickling (See https://github.com/pytorch/pytorch/blob/main/SECURITY.md#untrusted-models for more details). In a future release, the default value for `weights_only` will be flipped to `True`. This limits the functions that could be executed during unpickling. Arbitrary objects will no longer be allowed to be loaded via this mode unless they are explicitly allowlisted by the user via `torch.serialization.add_safe_globals`. We recommend you start setting `weights_only=True` for any use case where you don't have full control of the loaded file. Please open an issue on GitHub for any issues related to this experimental feature.\n",
      "  state_dict = torch.load('./checkpoints/model_weightsBPE0.pth')\n"
     ]
    }
   ],
   "source": [
    "fmodel = model(modelArguments)\n",
    "\n",
    "state_dict = torch.load('./checkpoints/model_weightsBPE0.pth')\n",
    "new_state_dict = {k.replace('_orig_mod.', ''): v for k, v in state_dict.items()}\n",
    "fmodel.load_state_dict(new_state_dict, strict=False)\n",
    "\n",
    "fmodel = fmodel.to('cuda')"
   ]
  },
  {
   "cell_type": "code",
   "execution_count": 3,
   "metadata": {},
   "outputs": [
    {
     "name": "stderr",
     "output_type": "stream",
     "text": [
      "/home/frosthead/.conda/envs/DL/lib/python3.11/site-packages/tqdm/auto.py:21: TqdmWarning: IProgress not found. Please update jupyter and ipywidgets. See https://ipywidgets.readthedocs.io/en/stable/user_install.html\n",
      "  from .autonotebook import tqdm as notebook_tqdm\n"
     ]
    }
   ],
   "source": [
    "from transformers import PreTrainedTokenizerFast\n",
    "tokenizer = PreTrainedTokenizerFast(tokenizer_file=\"large_tokenizer.json\")\n",
    "\n",
    "\n",
    "def tokenize(text, second = False):\n",
    "    ids = tokenizer.encode(text, add_special_tokens=True)\n",
    "    ids1 = ids\n",
    "    ids1 = torch.tensor(ids1, dtype=torch.int16)\n",
    "    \n",
    "    # # Pad or truncate the sequence to tholtae max_seq_length\n",
    "    # if ids1.size(0) < modelArguments.max_seq_len:\n",
    "    #     padding_length = modelArguments.max_seq_len - ids1.size(0)\n",
    "    #     ids1 = torch.cat([ids1, torch.zeros(padding_length, dtype=torch.int16)])\n",
    "        \n",
    "    # elif ids1.size(0) >= modelArguments.max_seq_len:\n",
    "    #     ids1 = ids1[:modelArguments.max_seq_len]\n",
    "    #     ids1[-1] = 2\n",
    "    return ids1"
   ]
  },
  {
   "cell_type": "code",
   "execution_count": 4,
   "metadata": {},
   "outputs": [],
   "source": [
    "def id_to_token(x):\n",
    "    s = ''\n",
    "    for i in x[0]:\n",
    "        # j = torch.argmax(i)\n",
    "        s += tokenizer.decode(i)\n",
    "\n",
    "    return s\n",
    "\n",
    "def id_to_token_M(x):\n",
    "    s = ''\n",
    "    for i in x[0]:\n",
    "        j = torch.argmax(i)\n",
    "        s += tokenizer.decode(j)\n",
    "\n",
    "    return s"
   ]
  },
  {
   "cell_type": "code",
   "execution_count": 5,
   "metadata": {},
   "outputs": [
    {
     "data": {
      "text/plain": [
       "model(\n",
       "  (shared_emb): shared_emb()\n",
       "  (enc_layers): ModuleList(\n",
       "    (0-9): 10 x EncoderBlock(\n",
       "      (norm1): LayerNorm((512,), eps=1e-05, elementwise_affine=True)\n",
       "      (norm2): LayerNorm((512,), eps=1e-05, elementwise_affine=True)\n",
       "      (attention): FlashAttention(\n",
       "        (q_linear): Linear(in_features=512, out_features=512, bias=False)\n",
       "        (k_linear): Linear(in_features=512, out_features=512, bias=False)\n",
       "        (v_linear): Linear(in_features=512, out_features=512, bias=False)\n",
       "        (out_linear): Linear(in_features=512, out_features=512, bias=False)\n",
       "      )\n",
       "      (feedforward): FeedForward(\n",
       "        (fc1): Linear(in_features=512, out_features=2048, bias=False)\n",
       "        (fc2): Linear(in_features=2048, out_features=512, bias=False)\n",
       "        (dropout): Dropout(p=0.1, inplace=False)\n",
       "      )\n",
       "    )\n",
       "  )\n",
       "  (norm): LayerNorm((512,), eps=1e-05, elementwise_affine=True)\n",
       ")"
      ]
     },
     "execution_count": 5,
     "metadata": {},
     "output_type": "execute_result"
    }
   ],
   "source": [
    "fmodel.eval()"
   ]
  },
  {
   "cell_type": "code",
   "execution_count": null,
   "metadata": {},
   "outputs": [],
   "source": []
  },
  {
   "cell_type": "code",
   "execution_count": 13,
   "metadata": {},
   "outputs": [
    {
     "name": "stdout",
     "output_type": "stream",
     "text": [
      "torch.Size([4, 13])\n",
      "Generated text: complete this story \n",
      " Once there lived a young boy named ayush of his house. The boy was a young boy who had a small house. The boy was a young boy. The boy was a very young, but he was a young boy. He was a young boy who had a house. He was a young boy. He was a young boy who had a house. He was a young boy. He was a young boy who had a house. He was a young boy, but he was a young boy. He was a young boy. He was a young boy. He was a young boy. He was a young boy, and he was a young boy. He was a young boy. He was a young boy, and he had a little boy. He was a young boy. He was a young boy. He was a young boy. He was a young boy. He was a young boy. He was a young boy. He was a young boy. He was a young boy. He was\n",
      "time taken  5871.848821640015\n"
     ]
    }
   ],
   "source": [
    "# test sentence\n",
    "\n",
    "sentence = \"\"\"complete this story \\n Once there lived a young boy named ayush\"\"\"\n",
    "generated_id  = tokenize(sentence).to(torch.long).to('cuda').unsqueeze(0)\n",
    "generated_ids = torch.cat([generated_id for i in range(4)], dim=0)\n",
    "\n",
    "print(generated_ids.shape)\n",
    "# print(generated_ids)\n",
    "\n",
    "\n",
    "t0 = time.time()\n",
    "\n",
    "for _ in range(192): #modelArguments.max_seq_len-generated_ids.size(1)):  # Generate up to 20 tokens\n",
    "    with torch.no_grad():\n",
    "        logits = fmodel(generated_ids)  # Pass the current sequence to the model\n",
    "        next_token_logits = logits[:, -1, :]  # Get logits for the last token\n",
    "\n",
    "\n",
    "    # Predict the next token (greedy decoding)\n",
    "    next_token_id = torch.argmax(next_token_logits, dim=-1).unsqueeze(1)  # Shape: [1, 1]\n",
    "\n",
    "    # Append the predicted token to the sequence\n",
    "    generated_ids = torch.cat([generated_ids, next_token_id], dim=-1)\n",
    "\n",
    "    # Stop if EOS token is predicted\n",
    "    # if next_token_id.item() == 2:\n",
    "    #     print(\"eos\")\n",
    "    #     break\n",
    "\n",
    "t1 = time.time()\n",
    "# Decode the generated sequence\n",
    "output_text = tokenizer.decode(generated_ids[0])\n",
    "print(\"Generated text:\", output_text)\n",
    "t = (t1-t0)*1000\n",
    "print(\"time taken \", t)\n"
   ]
  },
  {
   "cell_type": "code",
   "execution_count": 14,
   "metadata": {},
   "outputs": [
    {
     "data": {
      "text/plain": [
       "torch.Size([4, 205])"
      ]
     },
     "execution_count": 14,
     "metadata": {},
     "output_type": "execute_result"
    }
   ],
   "source": [
    "generated_ids.shape"
   ]
  },
  {
   "cell_type": "code",
   "execution_count": 15,
   "metadata": {},
   "outputs": [
    {
     "data": {
      "text/plain": [
       "torch.Size([4, 1])"
      ]
     },
     "execution_count": 15,
     "metadata": {},
     "output_type": "execute_result"
    }
   ],
   "source": [
    "next_token_id.shape"
   ]
  },
  {
   "cell_type": "code",
   "execution_count": 16,
   "metadata": {},
   "outputs": [
    {
     "name": "stdout",
     "output_type": "stream",
     "text": [
      "Generated text: complete this story \n",
      " Once there lived a young boy named ayush of his house. The boy was a young boy who had a small house. The boy was a young boy. The boy was a very young, but he was a young boy. He was a young boy who had a house. He was a young boy. He was a young boy who had a house. He was a young boy. He was a young boy who had a house. He was a young boy, but he was a young boy. He was a young boy. He was a young boy. He was a young boy. He was a young boy, and he was a young boy. He was a young boy. He was a young boy, and he had a little boy. He was a young boy. He was a young boy. He was a young boy. He was a young boy. He was a young boy. He was a young boy. He was a young boy. He was a young boy. He was\n"
     ]
    }
   ],
   "source": [
    "output_text = tokenizer.decode(generated_ids[0])\n",
    "print(\"Generated text:\", output_text)"
   ]
  },
  {
   "cell_type": "code",
   "execution_count": 17,
   "metadata": {},
   "outputs": [
    {
     "name": "stdout",
     "output_type": "stream",
     "text": [
      "Generated text: complete this story \n",
      " Once there lived a young boy named ayush her. \n",
      " \n",
      "\n",
      "I had a little to the house. \n",
      "I had a little to the house. \n",
      "I had a little to see. \n",
      "I had a little to the house. \n",
      "I had a little to the house. \n",
      "I had a little to see. \n",
      "I had a little to the house. \n",
      "I had a little to see. \n",
      "I had a little to the house. \n",
      "I had a little to the house. \n",
      "I had a little to the house. \n",
      "I had a little to the house. \n",
      "I had a little to it. \n",
      "I had a little to the house. \n",
      "I had a little to the house. \n",
      "I had a little to the house. \n",
      "I had a little to the house. \n",
      "I had a little to the house. \n",
      "I had a little to the house. \n",
      "I\n"
     ]
    }
   ],
   "source": [
    "output_text = tokenizer.decode(generated_ids[1])\n",
    "print(\"Generated text:\", output_text)"
   ]
  },
  {
   "cell_type": "code",
   "execution_count": 18,
   "metadata": {},
   "outputs": [
    {
     "name": "stdout",
     "output_type": "stream",
     "text": [
      "Generated text: complete this story \n",
      " Once there lived a young boy named ayush of a boy. He was a young boy, he was a young boy who had a little boy who had a lot of his life. He was a little boy, but he had a little boy. He had a little boy. He was a little boy. He had a little boy. He had a little boy. He had a little boy. He had a little boy. He had a little boy. He had a little boy. He had a little boy. He was a little boy. He had a little boy. He had a little boy. He was a little boy. He was a little boy. He was a young boy. He was a little boy. He had a little boy. He was a young boy. He was a little boy. He had a little boy. He was a little boy. He had a little boy. He was a little boy. He had a little boy. He was a little boy. He\n"
     ]
    }
   ],
   "source": [
    "output_text = tokenizer.decode(generated_ids[2])\n",
    "print(\"Generated text:\", output_text)"
   ]
  },
  {
   "cell_type": "code",
   "execution_count": 19,
   "metadata": {},
   "outputs": [
    {
     "name": "stdout",
     "output_type": "stream",
     "text": [
      "Generated text: complete this story \n",
      " Once there lived a young boy named ayush the old girl, the boy's friend was a young boy who was a young boy who was a young boy. The boy was a young boy who was a young boy. The boy was a young boy who was a young boy who was a young boy who was a young boy. He was a young boy. He had a new boy's friends, but he had a little to her. He was a young boy. He had a new boy's friend, but he had a little to see his friends. He was a young boy. He had a little of his friends. He had a new boy who was a young boy. He was a young boy who was a young boy. He had a new boy. He had a little to see his friends. He had a new boy's name. He was a young boy. He had a new boy. He had a new boy. He was a young boy. He had a little boy.\n"
     ]
    }
   ],
   "source": [
    "output_text = tokenizer.decode(generated_ids[3])\n",
    "print(\"Generated text:\", output_text)"
   ]
  },
  {
   "cell_type": "code",
   "execution_count": null,
   "metadata": {},
   "outputs": [],
   "source": []
  },
  {
   "cell_type": "code",
   "execution_count": null,
   "metadata": {},
   "outputs": [],
   "source": []
  },
  {
   "cell_type": "code",
   "execution_count": null,
   "metadata": {},
   "outputs": [],
   "source": []
  }
 ],
 "metadata": {
  "kernelspec": {
   "display_name": "DL",
   "language": "python",
   "name": "python3"
  },
  "language_info": {
   "codemirror_mode": {
    "name": "ipython",
    "version": 3
   },
   "file_extension": ".py",
   "mimetype": "text/x-python",
   "name": "python",
   "nbconvert_exporter": "python",
   "pygments_lexer": "ipython3",
   "version": "3.11.10"
  }
 },
 "nbformat": 4,
 "nbformat_minor": 2
}
