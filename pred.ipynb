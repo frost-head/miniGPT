{
 "cells": [
  {
   "cell_type": "code",
   "execution_count": 1,
   "metadata": {},
   "outputs": [],
   "source": [
    "import torch\n",
    "import torch.nn as nn\n",
    "from Model import model, modelArguments\n",
    "import time\n",
    "import re\n",
    "import math\n",
    "import triton"
   ]
  },
  {
   "cell_type": "code",
   "execution_count": 2,
   "metadata": {},
   "outputs": [
    {
     "name": "stderr",
     "output_type": "stream",
     "text": [
      "/tmp/ipykernel_44869/3021890348.py:3: FutureWarning: You are using `torch.load` with `weights_only=False` (the current default value), which uses the default pickle module implicitly. It is possible to construct malicious pickle data which will execute arbitrary code during unpickling (See https://github.com/pytorch/pytorch/blob/main/SECURITY.md#untrusted-models for more details). In a future release, the default value for `weights_only` will be flipped to `True`. This limits the functions that could be executed during unpickling. Arbitrary objects will no longer be allowed to be loaded via this mode unless they are explicitly allowlisted by the user via `torch.serialization.add_safe_globals`. We recommend you start setting `weights_only=True` for any use case where you don't have full control of the loaded file. Please open an issue on GitHub for any issues related to this experimental feature.\n",
      "  state_dict = torch.load('./checkpoints/model_weightsBPE6.pth')\n"
     ]
    }
   ],
   "source": [
    "fmodel = model(modelArguments)\n",
    "\n",
    "state_dict = torch.load('./checkpoints/model_weightsBPE6.pth')\n",
    "new_state_dict = {k.replace('_orig_mod.', ''): v for k, v in state_dict.items()}\n",
    "fmodel.load_state_dict(new_state_dict, strict=False)\n",
    "\n",
    "fmodel = fmodel.to('cuda')"
   ]
  },
  {
   "cell_type": "code",
   "execution_count": 3,
   "metadata": {},
   "outputs": [
    {
     "name": "stderr",
     "output_type": "stream",
     "text": [
      "/home/frosthead/.conda/envs/DL/lib/python3.11/site-packages/tqdm/auto.py:21: TqdmWarning: IProgress not found. Please update jupyter and ipywidgets. See https://ipywidgets.readthedocs.io/en/stable/user_install.html\n",
      "  from .autonotebook import tqdm as notebook_tqdm\n"
     ]
    }
   ],
   "source": [
    "from transformers import PreTrainedTokenizerFast\n",
    "tokenizer = PreTrainedTokenizerFast(tokenizer_file=\"large_tokenizer.json\")\n",
    "\n",
    "\n",
    "def tokenize(text, second = False):\n",
    "    ids = tokenizer.encode(text, add_special_tokens=True)\n",
    "    ids1 = [1] + ids\n",
    "    ids1 = torch.tensor(ids1, dtype=torch.int16)\n",
    "    \n",
    "    # # Pad or truncate the sequence to tholtae max_seq_length\n",
    "    # if ids1.size(0) < modelArguments.max_seq_len:\n",
    "    #     padding_length = modelArguments.max_seq_len - ids1.size(0)\n",
    "    #     ids1 = torch.cat([ids1, torch.zeros(padding_length, dtype=torch.int16)])\n",
    "        \n",
    "    # elif ids1.size(0) >= modelArguments.max_seq_len:\n",
    "    #     ids1 = ids1[:modelArguments.max_seq_len]\n",
    "    #     ids1[-1] = 2\n",
    "    return ids1"
   ]
  },
  {
   "cell_type": "code",
   "execution_count": 4,
   "metadata": {},
   "outputs": [],
   "source": [
    "def id_to_token(x):\n",
    "    s = ''\n",
    "    for i in x[0]:\n",
    "        # j = torch.argmax(i)\n",
    "        s += tokenizer.decode(i)\n",
    "\n",
    "    return s\n",
    "\n",
    "def id_to_token_M(x):\n",
    "    s = ''\n",
    "    for i in x[0]:\n",
    "        j = torch.argmax(i)\n",
    "        s += tokenizer.decode(j)\n",
    "\n",
    "    return s"
   ]
  },
  {
   "cell_type": "code",
   "execution_count": 5,
   "metadata": {},
   "outputs": [
    {
     "data": {
      "text/plain": [
       "model(\n",
       "  (shared_emb): shared_emb()\n",
       "  (enc_layers): ModuleList(\n",
       "    (0-9): 10 x EncoderBlock(\n",
       "      (norm1): LayerNorm((512,), eps=1e-05, elementwise_affine=True)\n",
       "      (norm2): LayerNorm((512,), eps=1e-05, elementwise_affine=True)\n",
       "      (attention): FlashAttention(\n",
       "        (q_linear): Linear(in_features=512, out_features=512, bias=False)\n",
       "        (k_linear): Linear(in_features=512, out_features=512, bias=False)\n",
       "        (v_linear): Linear(in_features=512, out_features=512, bias=False)\n",
       "        (out_linear): Linear(in_features=512, out_features=512, bias=False)\n",
       "      )\n",
       "      (feedforward): FeedForward(\n",
       "        (fc1): Linear(in_features=512, out_features=2048, bias=False)\n",
       "        (fc2): Linear(in_features=2048, out_features=512, bias=False)\n",
       "        (dropout): Dropout(p=0.1, inplace=False)\n",
       "      )\n",
       "    )\n",
       "  )\n",
       "  (norm): LayerNorm((512,), eps=1e-05, elementwise_affine=True)\n",
       ")"
      ]
     },
     "execution_count": 5,
     "metadata": {},
     "output_type": "execute_result"
    }
   ],
   "source": [
    "fmodel.eval()"
   ]
  },
  {
   "cell_type": "code",
   "execution_count": 10,
   "metadata": {},
   "outputs": [
    {
     "name": "stdout",
     "output_type": "stream",
     "text": [
      "tensor([[    1,  1313,   265,  1300, 20170,   261,   261,   663,    15,   265,\n",
      "          1602, 20170,   261,   261, 20170, 20170,   377,   418,   261,   299,\n",
      "           261,    15]], device='cuda:0')\n"
     ]
    }
   ],
   "source": [
    "# test sentence\n",
    "\n",
    "sentence = \"the the same,, a aated, the world,, a a,,,, you are a to a,\"\n",
    "generated_ids  = tokenize(sentence).to(torch.long).to('cuda').unsqueeze(0)\n",
    "\n",
    "print(generated_ids)"
   ]
  },
  {
   "cell_type": "code",
   "execution_count": 11,
   "metadata": {},
   "outputs": [
    {
     "name": "stdout",
     "output_type": "stream",
     "text": [
      "Generated text: [SOS]the the same,, a aated, the world,, a a,,,, you are a to a, you can be a own of the best of the best of the best of the best of the best\n"
     ]
    }
   ],
   "source": [
    "\n",
    "\n",
    "for _ in range(20):  # Generate up to 20 tokens\n",
    "    with torch.no_grad():\n",
    "        logits = fmodel(generated_ids)  # Pass the current sequence to the model\n",
    "        next_token_logits = logits[:, -1, :]  # Get logits for the last token\n",
    "\n",
    "    # Predict the next token (greedy decoding)\n",
    "    next_token_id = torch.argmax(next_token_logits, dim=-1).unsqueeze(0)  # Shape: [1, 1]\n",
    "\n",
    "    # Append the predicted token to the sequence\n",
    "    generated_ids = torch.cat([generated_ids, next_token_id], dim=-1)\n",
    "\n",
    "    # Stop if EOS token is predicted\n",
    "    if next_token_id.item() == 2:\n",
    "        print(\"eos\")\n",
    "        break\n",
    "\n",
    "# Decode the generated sequence\n",
    "output_text = tokenizer.decode(generated_ids.squeeze())\n",
    "print(\"Generated text:\", output_text)\n"
   ]
  },
  {
   "cell_type": "code",
   "execution_count": null,
   "metadata": {},
   "outputs": [],
   "source": []
  },
  {
   "cell_type": "code",
   "execution_count": null,
   "metadata": {},
   "outputs": [],
   "source": []
  }
 ],
 "metadata": {
  "kernelspec": {
   "display_name": "DL",
   "language": "python",
   "name": "python3"
  },
  "language_info": {
   "codemirror_mode": {
    "name": "ipython",
    "version": 3
   },
   "file_extension": ".py",
   "mimetype": "text/x-python",
   "name": "python",
   "nbconvert_exporter": "python",
   "pygments_lexer": "ipython3",
   "version": "3.11.10"
  }
 },
 "nbformat": 4,
 "nbformat_minor": 2
}
