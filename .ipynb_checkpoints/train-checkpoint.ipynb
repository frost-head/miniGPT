{
 "cells": [
  {
   "cell_type": "code",
   "execution_count": 1,
   "metadata": {},
   "outputs": [],
   "source": [
    "import torch\n",
    "import torch.nn as nn\n",
    "from Model import model, modelArguments\n",
    "import time\n",
    "import re\n",
    "import math\n",
    "import triton\n"
   ]
  },
  {
   "cell_type": "code",
   "execution_count": 2,
   "metadata": {},
   "outputs": [],
   "source": [
    "CUDA_LAUCH_BLOCKING = 1\n",
    "\n",
    "TORCH_USE_CUDA_DSA = True\n",
    "\n"
   ]
  },
  {
   "cell_type": "code",
   "execution_count": 3,
   "metadata": {},
   "outputs": [],
   "source": [
    "torch.set_float32_matmul_precision('medium')"
   ]
  },
  {
   "cell_type": "code",
   "execution_count": 4,
   "metadata": {},
   "outputs": [],
   "source": [
    "def count_parameters(model):\n",
    "    return sum(p.numel() for p in model.parameters() if p.requires_grad)\n"
   ]
  },
  {
   "cell_type": "code",
   "execution_count": 5,
   "metadata": {},
   "outputs": [],
   "source": [
    "fmodel = model(modelArguments)\n",
    "fmodel = fmodel.to('cuda')\n",
    "\n"
   ]
  },
  {
   "cell_type": "code",
   "execution_count": 6,
   "metadata": {},
   "outputs": [],
   "source": [
    "# fmodel(a, a)"
   ]
  },
  {
   "cell_type": "code",
   "execution_count": 7,
   "metadata": {},
   "outputs": [
    {
     "name": "stdout",
     "output_type": "stream",
     "text": [
      "shared_emb.shared_weight\n",
      "enc_layers.0.norm1.weight\n",
      "enc_layers.0.norm1.bias\n",
      "enc_layers.0.norm2.weight\n",
      "enc_layers.0.norm2.bias\n",
      "enc_layers.0.attention.q_linear.weight\n",
      "enc_layers.0.attention.k_linear.weight\n",
      "enc_layers.0.attention.v_linear.weight\n",
      "enc_layers.0.attention.out_linear.weight\n",
      "enc_layers.0.feedforward.fc1.weight\n",
      "enc_layers.0.feedforward.fc2.weight\n",
      "enc_layers.1.norm1.weight\n",
      "enc_layers.1.norm1.bias\n",
      "enc_layers.1.norm2.weight\n",
      "enc_layers.1.norm2.bias\n",
      "enc_layers.1.attention.q_linear.weight\n",
      "enc_layers.1.attention.k_linear.weight\n",
      "enc_layers.1.attention.v_linear.weight\n",
      "enc_layers.1.attention.out_linear.weight\n",
      "enc_layers.1.feedforward.fc1.weight\n",
      "enc_layers.1.feedforward.fc2.weight\n",
      "enc_layers.2.norm1.weight\n",
      "enc_layers.2.norm1.bias\n",
      "enc_layers.2.norm2.weight\n",
      "enc_layers.2.norm2.bias\n",
      "enc_layers.2.attention.q_linear.weight\n",
      "enc_layers.2.attention.k_linear.weight\n",
      "enc_layers.2.attention.v_linear.weight\n",
      "enc_layers.2.attention.out_linear.weight\n",
      "enc_layers.2.feedforward.fc1.weight\n",
      "enc_layers.2.feedforward.fc2.weight\n",
      "enc_layers.3.norm1.weight\n",
      "enc_layers.3.norm1.bias\n",
      "enc_layers.3.norm2.weight\n",
      "enc_layers.3.norm2.bias\n",
      "enc_layers.3.attention.q_linear.weight\n",
      "enc_layers.3.attention.k_linear.weight\n",
      "enc_layers.3.attention.v_linear.weight\n",
      "enc_layers.3.attention.out_linear.weight\n",
      "enc_layers.3.feedforward.fc1.weight\n",
      "enc_layers.3.feedforward.fc2.weight\n",
      "enc_layers.4.norm1.weight\n",
      "enc_layers.4.norm1.bias\n",
      "enc_layers.4.norm2.weight\n",
      "enc_layers.4.norm2.bias\n",
      "enc_layers.4.attention.q_linear.weight\n",
      "enc_layers.4.attention.k_linear.weight\n",
      "enc_layers.4.attention.v_linear.weight\n",
      "enc_layers.4.attention.out_linear.weight\n",
      "enc_layers.4.feedforward.fc1.weight\n",
      "enc_layers.4.feedforward.fc2.weight\n",
      "enc_layers.5.norm1.weight\n",
      "enc_layers.5.norm1.bias\n",
      "enc_layers.5.norm2.weight\n",
      "enc_layers.5.norm2.bias\n",
      "enc_layers.5.attention.q_linear.weight\n",
      "enc_layers.5.attention.k_linear.weight\n",
      "enc_layers.5.attention.v_linear.weight\n",
      "enc_layers.5.attention.out_linear.weight\n",
      "enc_layers.5.feedforward.fc1.weight\n",
      "enc_layers.5.feedforward.fc2.weight\n",
      "enc_layers.6.norm1.weight\n",
      "enc_layers.6.norm1.bias\n",
      "enc_layers.6.norm2.weight\n",
      "enc_layers.6.norm2.bias\n",
      "enc_layers.6.attention.q_linear.weight\n",
      "enc_layers.6.attention.k_linear.weight\n",
      "enc_layers.6.attention.v_linear.weight\n",
      "enc_layers.6.attention.out_linear.weight\n",
      "enc_layers.6.feedforward.fc1.weight\n",
      "enc_layers.6.feedforward.fc2.weight\n",
      "enc_layers.7.norm1.weight\n",
      "enc_layers.7.norm1.bias\n",
      "enc_layers.7.norm2.weight\n",
      "enc_layers.7.norm2.bias\n",
      "enc_layers.7.attention.q_linear.weight\n",
      "enc_layers.7.attention.k_linear.weight\n",
      "enc_layers.7.attention.v_linear.weight\n",
      "enc_layers.7.attention.out_linear.weight\n",
      "enc_layers.7.feedforward.fc1.weight\n",
      "enc_layers.7.feedforward.fc2.weight\n",
      "enc_layers.8.norm1.weight\n",
      "enc_layers.8.norm1.bias\n",
      "enc_layers.8.norm2.weight\n",
      "enc_layers.8.norm2.bias\n",
      "enc_layers.8.attention.q_linear.weight\n",
      "enc_layers.8.attention.k_linear.weight\n",
      "enc_layers.8.attention.v_linear.weight\n",
      "enc_layers.8.attention.out_linear.weight\n",
      "enc_layers.8.feedforward.fc1.weight\n",
      "enc_layers.8.feedforward.fc2.weight\n",
      "enc_layers.9.norm1.weight\n",
      "enc_layers.9.norm1.bias\n",
      "enc_layers.9.norm2.weight\n",
      "enc_layers.9.norm2.bias\n",
      "enc_layers.9.attention.q_linear.weight\n",
      "enc_layers.9.attention.k_linear.weight\n",
      "enc_layers.9.attention.v_linear.weight\n",
      "enc_layers.9.attention.out_linear.weight\n",
      "enc_layers.9.feedforward.fc1.weight\n",
      "enc_layers.9.feedforward.fc2.weight\n",
      "norm.weight\n",
      "norm.bias\n"
     ]
    }
   ],
   "source": [
    "for name, para in fmodel.named_parameters():\n",
    "    print(name)"
   ]
  },
  {
   "cell_type": "code",
   "execution_count": null,
   "metadata": {},
   "outputs": [],
   "source": [
    "\n",
    "\n"
   ]
  },
  {
   "cell_type": "code",
   "execution_count": 8,
   "metadata": {},
   "outputs": [
    {
     "name": "stderr",
     "output_type": "stream",
     "text": [
      "/tmp/ipykernel_790/2687838725.py:14: FutureWarning: You are using `torch.load` with `weights_only=False` (the current default value), which uses the default pickle module implicitly. It is possible to construct malicious pickle data which will execute arbitrary code during unpickling (See https://github.com/pytorch/pytorch/blob/main/SECURITY.md#untrusted-models for more details). In a future release, the default value for `weights_only` will be flipped to `True`. This limits the functions that could be executed during unpickling. Arbitrary objects will no longer be allowed to be loaded via this mode unless they are explicitly allowlisted by the user via `torch.serialization.add_safe_globals`. We recommend you start setting `weights_only=True` for any use case where you don't have full control of the loaded file. Please open an issue on GitHub for any issues related to this experimental feature.\n",
      "  state_dict = torch.load('./checkpoints/model_weightsBPE0.pth')\n"
     ]
    },
    {
     "data": {
      "text/plain": [
       "<All keys matched successfully>"
      ]
     },
     "execution_count": 8,
     "metadata": {},
     "output_type": "execute_result"
    }
   ],
   "source": [
    "# mmodel = MathM(modelArguments).to('cuda')\n",
    "def initialize_weights(m):\n",
    "    if isinstance(m, torch.nn.Linear):\n",
    "        nn.init.normal_(m.weight, std=0.1)\n",
    "        if m.bias is not None:\n",
    "            nn.init.zeros_(m.bias)\n",
    "    elif isinstance(m, torch.nn.Embedding):\n",
    "        nn.init.normal_(m.weight, std=0.1)\n",
    "\n",
    "# Apply the function to the model\n",
    "fmodel.apply(initialize_weights)\n",
    "\n",
    "\n",
    "state_dict = torch.load('./checkpoints/model_weightsBPE0.pth')\n",
    "new_state_dict = {k.replace('_orig_mod.', ''): v for k, v in state_dict.items()}\n",
    "fmodel.load_state_dict(new_state_dict, strict=False)"
   ]
  },
  {
   "cell_type": "code",
   "execution_count": 9,
   "metadata": {},
   "outputs": [],
   "source": [
    "fmodel = fmodel.to('cuda')\n",
    "# fmodel = torch.compile(fmodel)\n",
    "# fmodel = fmodel"
   ]
  },
  {
   "cell_type": "code",
   "execution_count": 10,
   "metadata": {},
   "outputs": [
    {
     "data": {
      "text/plain": [
       "48256000"
      ]
     },
     "execution_count": 10,
     "metadata": {},
     "output_type": "execute_result"
    }
   ],
   "source": [
    "count_parameters(fmodel)"
   ]
  },
  {
   "cell_type": "code",
   "execution_count": 11,
   "metadata": {},
   "outputs": [
    {
     "ename": "ImportError",
     "evalue": "libbz2.so.1.0: cannot open shared object file: No such file or directory",
     "output_type": "error",
     "traceback": [
      "\u001b[0;31m---------------------------------------------------------------------------\u001b[0m",
      "\u001b[0;31mImportError\u001b[0m                               Traceback (most recent call last)",
      "Cell \u001b[0;32mIn[11], line 1\u001b[0m\n\u001b[0;32m----> 1\u001b[0m \u001b[38;5;28;01mfrom\u001b[39;00m \u001b[38;5;21;01mdatasets\u001b[39;00m \u001b[38;5;28;01mimport\u001b[39;00m load_dataset\n\u001b[1;32m      2\u001b[0m \u001b[38;5;28;01mfrom\u001b[39;00m \u001b[38;5;21;01mtorch\u001b[39;00m\u001b[38;5;21;01m.\u001b[39;00m\u001b[38;5;21;01mutils\u001b[39;00m\u001b[38;5;21;01m.\u001b[39;00m\u001b[38;5;21;01mdata\u001b[39;00m \u001b[38;5;28;01mimport\u001b[39;00m DataLoader, IterableDataset\n\u001b[1;32m      3\u001b[0m \u001b[38;5;28;01mfrom\u001b[39;00m \u001b[38;5;21;01mtransformers\u001b[39;00m \u001b[38;5;28;01mimport\u001b[39;00m PreTrainedTokenizerFast\n",
      "File \u001b[0;32m~/.pyenv/versions/3.11.9/lib/python3.11/site-packages/datasets/__init__.py:17\u001b[0m\n\u001b[1;32m      1\u001b[0m \u001b[38;5;66;03m# Copyright 2020 The HuggingFace Datasets Authors and the TensorFlow Datasets Authors.\u001b[39;00m\n\u001b[1;32m      2\u001b[0m \u001b[38;5;66;03m#\u001b[39;00m\n\u001b[1;32m      3\u001b[0m \u001b[38;5;66;03m# Licensed under the Apache License, Version 2.0 (the \"License\");\u001b[39;00m\n\u001b[0;32m   (...)\u001b[0m\n\u001b[1;32m     12\u001b[0m \u001b[38;5;66;03m# See the License for the specific language governing permissions and\u001b[39;00m\n\u001b[1;32m     13\u001b[0m \u001b[38;5;66;03m# limitations under the License.\u001b[39;00m\n\u001b[1;32m     15\u001b[0m __version__ \u001b[38;5;241m=\u001b[39m \u001b[38;5;124m\"\u001b[39m\u001b[38;5;124m2.21.0\u001b[39m\u001b[38;5;124m\"\u001b[39m\n\u001b[0;32m---> 17\u001b[0m \u001b[38;5;28;01mfrom\u001b[39;00m \u001b[38;5;21;01m.\u001b[39;00m\u001b[38;5;21;01marrow_dataset\u001b[39;00m \u001b[38;5;28;01mimport\u001b[39;00m Dataset\n\u001b[1;32m     18\u001b[0m \u001b[38;5;28;01mfrom\u001b[39;00m \u001b[38;5;21;01m.\u001b[39;00m\u001b[38;5;21;01marrow_reader\u001b[39;00m \u001b[38;5;28;01mimport\u001b[39;00m ReadInstruction\n\u001b[1;32m     19\u001b[0m \u001b[38;5;28;01mfrom\u001b[39;00m \u001b[38;5;21;01m.\u001b[39;00m\u001b[38;5;21;01mbuilder\u001b[39;00m \u001b[38;5;28;01mimport\u001b[39;00m ArrowBasedBuilder, BeamBasedBuilder, BuilderConfig, DatasetBuilder, GeneratorBasedBuilder\n",
      "File \u001b[0;32m~/.pyenv/versions/3.11.9/lib/python3.11/site-packages/datasets/arrow_dataset.py:59\u001b[0m\n\u001b[1;32m     57\u001b[0m \u001b[38;5;28;01mimport\u001b[39;00m \u001b[38;5;21;01mfsspec\u001b[39;00m\n\u001b[1;32m     58\u001b[0m \u001b[38;5;28;01mimport\u001b[39;00m \u001b[38;5;21;01mnumpy\u001b[39;00m \u001b[38;5;28;01mas\u001b[39;00m \u001b[38;5;21;01mnp\u001b[39;00m\n\u001b[0;32m---> 59\u001b[0m \u001b[38;5;28;01mimport\u001b[39;00m \u001b[38;5;21;01mpandas\u001b[39;00m \u001b[38;5;28;01mas\u001b[39;00m \u001b[38;5;21;01mpd\u001b[39;00m\n\u001b[1;32m     60\u001b[0m \u001b[38;5;28;01mimport\u001b[39;00m \u001b[38;5;21;01mpyarrow\u001b[39;00m \u001b[38;5;28;01mas\u001b[39;00m \u001b[38;5;21;01mpa\u001b[39;00m\n\u001b[1;32m     61\u001b[0m \u001b[38;5;28;01mimport\u001b[39;00m \u001b[38;5;21;01mpyarrow\u001b[39;00m\u001b[38;5;21;01m.\u001b[39;00m\u001b[38;5;21;01mcompute\u001b[39;00m \u001b[38;5;28;01mas\u001b[39;00m \u001b[38;5;21;01mpc\u001b[39;00m\n",
      "File \u001b[0;32m~/.pyenv/versions/3.11.9/lib/python3.11/site-packages/pandas/__init__.py:48\u001b[0m\n\u001b[1;32m     45\u001b[0m \u001b[38;5;66;03m# let init-time option registration happen\u001b[39;00m\n\u001b[1;32m     46\u001b[0m \u001b[38;5;28;01mimport\u001b[39;00m \u001b[38;5;21;01mpandas\u001b[39;00m\u001b[38;5;21;01m.\u001b[39;00m\u001b[38;5;21;01mcore\u001b[39;00m\u001b[38;5;21;01m.\u001b[39;00m\u001b[38;5;21;01mconfig_init\u001b[39;00m  \u001b[38;5;66;03m# pyright: ignore # noqa:F401\u001b[39;00m\n\u001b[0;32m---> 48\u001b[0m \u001b[38;5;28;01mfrom\u001b[39;00m \u001b[38;5;21;01mpandas\u001b[39;00m\u001b[38;5;21;01m.\u001b[39;00m\u001b[38;5;21;01mcore\u001b[39;00m\u001b[38;5;21;01m.\u001b[39;00m\u001b[38;5;21;01mapi\u001b[39;00m \u001b[38;5;28;01mimport\u001b[39;00m (\n\u001b[1;32m     49\u001b[0m     \u001b[38;5;66;03m# dtype\u001b[39;00m\n\u001b[1;32m     50\u001b[0m     ArrowDtype,\n\u001b[1;32m     51\u001b[0m     Int8Dtype,\n\u001b[1;32m     52\u001b[0m     Int16Dtype,\n\u001b[1;32m     53\u001b[0m     Int32Dtype,\n\u001b[1;32m     54\u001b[0m     Int64Dtype,\n\u001b[1;32m     55\u001b[0m     UInt8Dtype,\n\u001b[1;32m     56\u001b[0m     UInt16Dtype,\n\u001b[1;32m     57\u001b[0m     UInt32Dtype,\n\u001b[1;32m     58\u001b[0m     UInt64Dtype,\n\u001b[1;32m     59\u001b[0m     Float32Dtype,\n\u001b[1;32m     60\u001b[0m     Float64Dtype,\n\u001b[1;32m     61\u001b[0m     CategoricalDtype,\n\u001b[1;32m     62\u001b[0m     PeriodDtype,\n\u001b[1;32m     63\u001b[0m     IntervalDtype,\n\u001b[1;32m     64\u001b[0m     DatetimeTZDtype,\n\u001b[1;32m     65\u001b[0m     StringDtype,\n\u001b[1;32m     66\u001b[0m     BooleanDtype,\n\u001b[1;32m     67\u001b[0m     \u001b[38;5;66;03m# missing\u001b[39;00m\n\u001b[1;32m     68\u001b[0m     NA,\n\u001b[1;32m     69\u001b[0m     isna,\n\u001b[1;32m     70\u001b[0m     isnull,\n\u001b[1;32m     71\u001b[0m     notna,\n\u001b[1;32m     72\u001b[0m     notnull,\n\u001b[1;32m     73\u001b[0m     \u001b[38;5;66;03m# indexes\u001b[39;00m\n\u001b[1;32m     74\u001b[0m     Index,\n\u001b[1;32m     75\u001b[0m     CategoricalIndex,\n\u001b[1;32m     76\u001b[0m     RangeIndex,\n\u001b[1;32m     77\u001b[0m     MultiIndex,\n\u001b[1;32m     78\u001b[0m     IntervalIndex,\n\u001b[1;32m     79\u001b[0m     TimedeltaIndex,\n\u001b[1;32m     80\u001b[0m     DatetimeIndex,\n\u001b[1;32m     81\u001b[0m     PeriodIndex,\n\u001b[1;32m     82\u001b[0m     IndexSlice,\n\u001b[1;32m     83\u001b[0m     \u001b[38;5;66;03m# tseries\u001b[39;00m\n\u001b[1;32m     84\u001b[0m     NaT,\n\u001b[1;32m     85\u001b[0m     Period,\n\u001b[1;32m     86\u001b[0m     period_range,\n\u001b[1;32m     87\u001b[0m     Timedelta,\n\u001b[1;32m     88\u001b[0m     timedelta_range,\n\u001b[1;32m     89\u001b[0m     Timestamp,\n\u001b[1;32m     90\u001b[0m     date_range,\n\u001b[1;32m     91\u001b[0m     bdate_range,\n\u001b[1;32m     92\u001b[0m     Interval,\n\u001b[1;32m     93\u001b[0m     interval_range,\n\u001b[1;32m     94\u001b[0m     DateOffset,\n\u001b[1;32m     95\u001b[0m     \u001b[38;5;66;03m# conversion\u001b[39;00m\n\u001b[1;32m     96\u001b[0m     to_numeric,\n\u001b[1;32m     97\u001b[0m     to_datetime,\n\u001b[1;32m     98\u001b[0m     to_timedelta,\n\u001b[1;32m     99\u001b[0m     \u001b[38;5;66;03m# misc\u001b[39;00m\n\u001b[1;32m    100\u001b[0m     Flags,\n\u001b[1;32m    101\u001b[0m     Grouper,\n\u001b[1;32m    102\u001b[0m     factorize,\n\u001b[1;32m    103\u001b[0m     unique,\n\u001b[1;32m    104\u001b[0m     value_counts,\n\u001b[1;32m    105\u001b[0m     NamedAgg,\n\u001b[1;32m    106\u001b[0m     array,\n\u001b[1;32m    107\u001b[0m     Categorical,\n\u001b[1;32m    108\u001b[0m     set_eng_float_format,\n\u001b[1;32m    109\u001b[0m     Series,\n\u001b[1;32m    110\u001b[0m     DataFrame,\n\u001b[1;32m    111\u001b[0m )\n\u001b[1;32m    113\u001b[0m \u001b[38;5;28;01mfrom\u001b[39;00m \u001b[38;5;21;01mpandas\u001b[39;00m\u001b[38;5;21;01m.\u001b[39;00m\u001b[38;5;21;01mcore\u001b[39;00m\u001b[38;5;21;01m.\u001b[39;00m\u001b[38;5;21;01marrays\u001b[39;00m\u001b[38;5;21;01m.\u001b[39;00m\u001b[38;5;21;01msparse\u001b[39;00m \u001b[38;5;28;01mimport\u001b[39;00m SparseDtype\n\u001b[1;32m    115\u001b[0m \u001b[38;5;28;01mfrom\u001b[39;00m \u001b[38;5;21;01mpandas\u001b[39;00m\u001b[38;5;21;01m.\u001b[39;00m\u001b[38;5;21;01mtseries\u001b[39;00m\u001b[38;5;21;01m.\u001b[39;00m\u001b[38;5;21;01mapi\u001b[39;00m \u001b[38;5;28;01mimport\u001b[39;00m infer_freq\n",
      "File \u001b[0;32m~/.pyenv/versions/3.11.9/lib/python3.11/site-packages/pandas/core/api.py:47\u001b[0m\n\u001b[1;32m     45\u001b[0m \u001b[38;5;28;01mfrom\u001b[39;00m \u001b[38;5;21;01mpandas\u001b[39;00m\u001b[38;5;21;01m.\u001b[39;00m\u001b[38;5;21;01mcore\u001b[39;00m\u001b[38;5;21;01m.\u001b[39;00m\u001b[38;5;21;01mconstruction\u001b[39;00m \u001b[38;5;28;01mimport\u001b[39;00m array\n\u001b[1;32m     46\u001b[0m \u001b[38;5;28;01mfrom\u001b[39;00m \u001b[38;5;21;01mpandas\u001b[39;00m\u001b[38;5;21;01m.\u001b[39;00m\u001b[38;5;21;01mcore\u001b[39;00m\u001b[38;5;21;01m.\u001b[39;00m\u001b[38;5;21;01mflags\u001b[39;00m \u001b[38;5;28;01mimport\u001b[39;00m Flags\n\u001b[0;32m---> 47\u001b[0m \u001b[38;5;28;01mfrom\u001b[39;00m \u001b[38;5;21;01mpandas\u001b[39;00m\u001b[38;5;21;01m.\u001b[39;00m\u001b[38;5;21;01mcore\u001b[39;00m\u001b[38;5;21;01m.\u001b[39;00m\u001b[38;5;21;01mgroupby\u001b[39;00m \u001b[38;5;28;01mimport\u001b[39;00m (\n\u001b[1;32m     48\u001b[0m     Grouper,\n\u001b[1;32m     49\u001b[0m     NamedAgg,\n\u001b[1;32m     50\u001b[0m )\n\u001b[1;32m     51\u001b[0m \u001b[38;5;28;01mfrom\u001b[39;00m \u001b[38;5;21;01mpandas\u001b[39;00m\u001b[38;5;21;01m.\u001b[39;00m\u001b[38;5;21;01mcore\u001b[39;00m\u001b[38;5;21;01m.\u001b[39;00m\u001b[38;5;21;01mindexes\u001b[39;00m\u001b[38;5;21;01m.\u001b[39;00m\u001b[38;5;21;01mapi\u001b[39;00m \u001b[38;5;28;01mimport\u001b[39;00m (\n\u001b[1;32m     52\u001b[0m     CategoricalIndex,\n\u001b[1;32m     53\u001b[0m     DatetimeIndex,\n\u001b[0;32m   (...)\u001b[0m\n\u001b[1;32m     63\u001b[0m     UInt64Index,\n\u001b[1;32m     64\u001b[0m )\n\u001b[1;32m     65\u001b[0m \u001b[38;5;28;01mfrom\u001b[39;00m \u001b[38;5;21;01mpandas\u001b[39;00m\u001b[38;5;21;01m.\u001b[39;00m\u001b[38;5;21;01mcore\u001b[39;00m\u001b[38;5;21;01m.\u001b[39;00m\u001b[38;5;21;01mindexes\u001b[39;00m\u001b[38;5;21;01m.\u001b[39;00m\u001b[38;5;21;01mdatetimes\u001b[39;00m \u001b[38;5;28;01mimport\u001b[39;00m (\n\u001b[1;32m     66\u001b[0m     bdate_range,\n\u001b[1;32m     67\u001b[0m     date_range,\n\u001b[1;32m     68\u001b[0m )\n",
      "File \u001b[0;32m~/.pyenv/versions/3.11.9/lib/python3.11/site-packages/pandas/core/groupby/__init__.py:1\u001b[0m\n\u001b[0;32m----> 1\u001b[0m \u001b[38;5;28;01mfrom\u001b[39;00m \u001b[38;5;21;01mpandas\u001b[39;00m\u001b[38;5;21;01m.\u001b[39;00m\u001b[38;5;21;01mcore\u001b[39;00m\u001b[38;5;21;01m.\u001b[39;00m\u001b[38;5;21;01mgroupby\u001b[39;00m\u001b[38;5;21;01m.\u001b[39;00m\u001b[38;5;21;01mgeneric\u001b[39;00m \u001b[38;5;28;01mimport\u001b[39;00m (\n\u001b[1;32m      2\u001b[0m     DataFrameGroupBy,\n\u001b[1;32m      3\u001b[0m     NamedAgg,\n\u001b[1;32m      4\u001b[0m     SeriesGroupBy,\n\u001b[1;32m      5\u001b[0m )\n\u001b[1;32m      6\u001b[0m \u001b[38;5;28;01mfrom\u001b[39;00m \u001b[38;5;21;01mpandas\u001b[39;00m\u001b[38;5;21;01m.\u001b[39;00m\u001b[38;5;21;01mcore\u001b[39;00m\u001b[38;5;21;01m.\u001b[39;00m\u001b[38;5;21;01mgroupby\u001b[39;00m\u001b[38;5;21;01m.\u001b[39;00m\u001b[38;5;21;01mgroupby\u001b[39;00m \u001b[38;5;28;01mimport\u001b[39;00m GroupBy\n\u001b[1;32m      7\u001b[0m \u001b[38;5;28;01mfrom\u001b[39;00m \u001b[38;5;21;01mpandas\u001b[39;00m\u001b[38;5;21;01m.\u001b[39;00m\u001b[38;5;21;01mcore\u001b[39;00m\u001b[38;5;21;01m.\u001b[39;00m\u001b[38;5;21;01mgroupby\u001b[39;00m\u001b[38;5;21;01m.\u001b[39;00m\u001b[38;5;21;01mgrouper\u001b[39;00m \u001b[38;5;28;01mimport\u001b[39;00m Grouper\n",
      "File \u001b[0;32m~/.pyenv/versions/3.11.9/lib/python3.11/site-packages/pandas/core/groupby/generic.py:76\u001b[0m\n\u001b[1;32m     74\u001b[0m \u001b[38;5;28;01mimport\u001b[39;00m \u001b[38;5;21;01mpandas\u001b[39;00m\u001b[38;5;21;01m.\u001b[39;00m\u001b[38;5;21;01mcore\u001b[39;00m\u001b[38;5;21;01m.\u001b[39;00m\u001b[38;5;21;01mcommon\u001b[39;00m \u001b[38;5;28;01mas\u001b[39;00m \u001b[38;5;21;01mcom\u001b[39;00m\n\u001b[1;32m     75\u001b[0m \u001b[38;5;28;01mfrom\u001b[39;00m \u001b[38;5;21;01mpandas\u001b[39;00m\u001b[38;5;21;01m.\u001b[39;00m\u001b[38;5;21;01mcore\u001b[39;00m\u001b[38;5;21;01m.\u001b[39;00m\u001b[38;5;21;01mconstruction\u001b[39;00m \u001b[38;5;28;01mimport\u001b[39;00m create_series_with_explicit_dtype\n\u001b[0;32m---> 76\u001b[0m \u001b[38;5;28;01mfrom\u001b[39;00m \u001b[38;5;21;01mpandas\u001b[39;00m\u001b[38;5;21;01m.\u001b[39;00m\u001b[38;5;21;01mcore\u001b[39;00m\u001b[38;5;21;01m.\u001b[39;00m\u001b[38;5;21;01mframe\u001b[39;00m \u001b[38;5;28;01mimport\u001b[39;00m DataFrame\n\u001b[1;32m     77\u001b[0m \u001b[38;5;28;01mfrom\u001b[39;00m \u001b[38;5;21;01mpandas\u001b[39;00m\u001b[38;5;21;01m.\u001b[39;00m\u001b[38;5;21;01mcore\u001b[39;00m\u001b[38;5;21;01m.\u001b[39;00m\u001b[38;5;21;01mgroupby\u001b[39;00m \u001b[38;5;28;01mimport\u001b[39;00m base\n\u001b[1;32m     78\u001b[0m \u001b[38;5;28;01mfrom\u001b[39;00m \u001b[38;5;21;01mpandas\u001b[39;00m\u001b[38;5;21;01m.\u001b[39;00m\u001b[38;5;21;01mcore\u001b[39;00m\u001b[38;5;21;01m.\u001b[39;00m\u001b[38;5;21;01mgroupby\u001b[39;00m\u001b[38;5;21;01m.\u001b[39;00m\u001b[38;5;21;01mgroupby\u001b[39;00m \u001b[38;5;28;01mimport\u001b[39;00m (\n\u001b[1;32m     79\u001b[0m     GroupBy,\n\u001b[1;32m     80\u001b[0m     _agg_template,\n\u001b[0;32m   (...)\u001b[0m\n\u001b[1;32m     83\u001b[0m     warn_dropping_nuisance_columns_deprecated,\n\u001b[1;32m     84\u001b[0m )\n",
      "File \u001b[0;32m~/.pyenv/versions/3.11.9/lib/python3.11/site-packages/pandas/core/frame.py:172\u001b[0m\n\u001b[1;32m    166\u001b[0m \u001b[38;5;28;01mfrom\u001b[39;00m \u001b[38;5;21;01mpandas\u001b[39;00m\u001b[38;5;21;01m.\u001b[39;00m\u001b[38;5;21;01mcore\u001b[39;00m\u001b[38;5;21;01m.\u001b[39;00m\u001b[38;5;21;01marrays\u001b[39;00m\u001b[38;5;21;01m.\u001b[39;00m\u001b[38;5;21;01msparse\u001b[39;00m \u001b[38;5;28;01mimport\u001b[39;00m SparseFrameAccessor\n\u001b[1;32m    167\u001b[0m \u001b[38;5;28;01mfrom\u001b[39;00m \u001b[38;5;21;01mpandas\u001b[39;00m\u001b[38;5;21;01m.\u001b[39;00m\u001b[38;5;21;01mcore\u001b[39;00m\u001b[38;5;21;01m.\u001b[39;00m\u001b[38;5;21;01mconstruction\u001b[39;00m \u001b[38;5;28;01mimport\u001b[39;00m (\n\u001b[1;32m    168\u001b[0m     extract_array,\n\u001b[1;32m    169\u001b[0m     sanitize_array,\n\u001b[1;32m    170\u001b[0m     sanitize_masked_array,\n\u001b[1;32m    171\u001b[0m )\n\u001b[0;32m--> 172\u001b[0m \u001b[38;5;28;01mfrom\u001b[39;00m \u001b[38;5;21;01mpandas\u001b[39;00m\u001b[38;5;21;01m.\u001b[39;00m\u001b[38;5;21;01mcore\u001b[39;00m\u001b[38;5;21;01m.\u001b[39;00m\u001b[38;5;21;01mgeneric\u001b[39;00m \u001b[38;5;28;01mimport\u001b[39;00m NDFrame\n\u001b[1;32m    173\u001b[0m \u001b[38;5;28;01mfrom\u001b[39;00m \u001b[38;5;21;01mpandas\u001b[39;00m\u001b[38;5;21;01m.\u001b[39;00m\u001b[38;5;21;01mcore\u001b[39;00m\u001b[38;5;21;01m.\u001b[39;00m\u001b[38;5;21;01mindexers\u001b[39;00m \u001b[38;5;28;01mimport\u001b[39;00m check_key_length\n\u001b[1;32m    174\u001b[0m \u001b[38;5;28;01mfrom\u001b[39;00m \u001b[38;5;21;01mpandas\u001b[39;00m\u001b[38;5;21;01m.\u001b[39;00m\u001b[38;5;21;01mcore\u001b[39;00m\u001b[38;5;21;01m.\u001b[39;00m\u001b[38;5;21;01mindexes\u001b[39;00m\u001b[38;5;21;01m.\u001b[39;00m\u001b[38;5;21;01mapi\u001b[39;00m \u001b[38;5;28;01mimport\u001b[39;00m (\n\u001b[1;32m    175\u001b[0m     DatetimeIndex,\n\u001b[1;32m    176\u001b[0m     Index,\n\u001b[0;32m   (...)\u001b[0m\n\u001b[1;32m    180\u001b[0m     ensure_index_from_sequences,\n\u001b[1;32m    181\u001b[0m )\n",
      "File \u001b[0;32m~/.pyenv/versions/3.11.9/lib/python3.11/site-packages/pandas/core/generic.py:147\u001b[0m\n\u001b[1;32m    142\u001b[0m \u001b[38;5;28;01mfrom\u001b[39;00m \u001b[38;5;21;01mpandas\u001b[39;00m\u001b[38;5;21;01m.\u001b[39;00m\u001b[38;5;21;01mcore\u001b[39;00m\u001b[38;5;21;01m.\u001b[39;00m\u001b[38;5;21;01mbase\u001b[39;00m \u001b[38;5;28;01mimport\u001b[39;00m PandasObject\n\u001b[1;32m    143\u001b[0m \u001b[38;5;28;01mfrom\u001b[39;00m \u001b[38;5;21;01mpandas\u001b[39;00m\u001b[38;5;21;01m.\u001b[39;00m\u001b[38;5;21;01mcore\u001b[39;00m\u001b[38;5;21;01m.\u001b[39;00m\u001b[38;5;21;01mconstruction\u001b[39;00m \u001b[38;5;28;01mimport\u001b[39;00m (\n\u001b[1;32m    144\u001b[0m     create_series_with_explicit_dtype,\n\u001b[1;32m    145\u001b[0m     extract_array,\n\u001b[1;32m    146\u001b[0m )\n\u001b[0;32m--> 147\u001b[0m \u001b[38;5;28;01mfrom\u001b[39;00m \u001b[38;5;21;01mpandas\u001b[39;00m\u001b[38;5;21;01m.\u001b[39;00m\u001b[38;5;21;01mcore\u001b[39;00m\u001b[38;5;21;01m.\u001b[39;00m\u001b[38;5;21;01mdescribe\u001b[39;00m \u001b[38;5;28;01mimport\u001b[39;00m describe_ndframe\n\u001b[1;32m    148\u001b[0m \u001b[38;5;28;01mfrom\u001b[39;00m \u001b[38;5;21;01mpandas\u001b[39;00m\u001b[38;5;21;01m.\u001b[39;00m\u001b[38;5;21;01mcore\u001b[39;00m\u001b[38;5;21;01m.\u001b[39;00m\u001b[38;5;21;01mflags\u001b[39;00m \u001b[38;5;28;01mimport\u001b[39;00m Flags\n\u001b[1;32m    149\u001b[0m \u001b[38;5;28;01mfrom\u001b[39;00m \u001b[38;5;21;01mpandas\u001b[39;00m\u001b[38;5;21;01m.\u001b[39;00m\u001b[38;5;21;01mcore\u001b[39;00m\u001b[38;5;21;01m.\u001b[39;00m\u001b[38;5;21;01mindexes\u001b[39;00m\u001b[38;5;21;01m.\u001b[39;00m\u001b[38;5;21;01mapi\u001b[39;00m \u001b[38;5;28;01mimport\u001b[39;00m (\n\u001b[1;32m    150\u001b[0m     DatetimeIndex,\n\u001b[1;32m    151\u001b[0m     Index,\n\u001b[0;32m   (...)\u001b[0m\n\u001b[1;32m    156\u001b[0m     ensure_index,\n\u001b[1;32m    157\u001b[0m )\n",
      "File \u001b[0;32m~/.pyenv/versions/3.11.9/lib/python3.11/site-packages/pandas/core/describe.py:45\u001b[0m\n\u001b[1;32m     42\u001b[0m \u001b[38;5;28;01mimport\u001b[39;00m \u001b[38;5;21;01mpandas\u001b[39;00m \u001b[38;5;28;01mas\u001b[39;00m \u001b[38;5;21;01mpd\u001b[39;00m\n\u001b[1;32m     43\u001b[0m \u001b[38;5;28;01mfrom\u001b[39;00m \u001b[38;5;21;01mpandas\u001b[39;00m\u001b[38;5;21;01m.\u001b[39;00m\u001b[38;5;21;01mcore\u001b[39;00m\u001b[38;5;21;01m.\u001b[39;00m\u001b[38;5;21;01mreshape\u001b[39;00m\u001b[38;5;21;01m.\u001b[39;00m\u001b[38;5;21;01mconcat\u001b[39;00m \u001b[38;5;28;01mimport\u001b[39;00m concat\n\u001b[0;32m---> 45\u001b[0m \u001b[38;5;28;01mfrom\u001b[39;00m \u001b[38;5;21;01mpandas\u001b[39;00m\u001b[38;5;21;01m.\u001b[39;00m\u001b[38;5;21;01mio\u001b[39;00m\u001b[38;5;21;01m.\u001b[39;00m\u001b[38;5;21;01mformats\u001b[39;00m\u001b[38;5;21;01m.\u001b[39;00m\u001b[38;5;21;01mformat\u001b[39;00m \u001b[38;5;28;01mimport\u001b[39;00m format_percentiles\n\u001b[1;32m     47\u001b[0m \u001b[38;5;28;01mif\u001b[39;00m TYPE_CHECKING:\n\u001b[1;32m     48\u001b[0m     \u001b[38;5;28;01mfrom\u001b[39;00m \u001b[38;5;21;01mpandas\u001b[39;00m \u001b[38;5;28;01mimport\u001b[39;00m (\n\u001b[1;32m     49\u001b[0m         DataFrame,\n\u001b[1;32m     50\u001b[0m         Series,\n\u001b[1;32m     51\u001b[0m     )\n",
      "File \u001b[0;32m~/.pyenv/versions/3.11.9/lib/python3.11/site-packages/pandas/io/formats/format.py:105\u001b[0m\n\u001b[1;32m    102\u001b[0m \u001b[38;5;28;01mfrom\u001b[39;00m \u001b[38;5;21;01mpandas\u001b[39;00m\u001b[38;5;21;01m.\u001b[39;00m\u001b[38;5;21;01mcore\u001b[39;00m\u001b[38;5;21;01m.\u001b[39;00m\u001b[38;5;21;01mindexes\u001b[39;00m\u001b[38;5;21;01m.\u001b[39;00m\u001b[38;5;21;01mtimedeltas\u001b[39;00m \u001b[38;5;28;01mimport\u001b[39;00m TimedeltaIndex\n\u001b[1;32m    103\u001b[0m \u001b[38;5;28;01mfrom\u001b[39;00m \u001b[38;5;21;01mpandas\u001b[39;00m\u001b[38;5;21;01m.\u001b[39;00m\u001b[38;5;21;01mcore\u001b[39;00m\u001b[38;5;21;01m.\u001b[39;00m\u001b[38;5;21;01mreshape\u001b[39;00m\u001b[38;5;21;01m.\u001b[39;00m\u001b[38;5;21;01mconcat\u001b[39;00m \u001b[38;5;28;01mimport\u001b[39;00m concat\n\u001b[0;32m--> 105\u001b[0m \u001b[38;5;28;01mfrom\u001b[39;00m \u001b[38;5;21;01mpandas\u001b[39;00m\u001b[38;5;21;01m.\u001b[39;00m\u001b[38;5;21;01mio\u001b[39;00m\u001b[38;5;21;01m.\u001b[39;00m\u001b[38;5;21;01mcommon\u001b[39;00m \u001b[38;5;28;01mimport\u001b[39;00m (\n\u001b[1;32m    106\u001b[0m     check_parent_directory,\n\u001b[1;32m    107\u001b[0m     stringify_path,\n\u001b[1;32m    108\u001b[0m )\n\u001b[1;32m    109\u001b[0m \u001b[38;5;28;01mfrom\u001b[39;00m \u001b[38;5;21;01mpandas\u001b[39;00m\u001b[38;5;21;01m.\u001b[39;00m\u001b[38;5;21;01mio\u001b[39;00m\u001b[38;5;21;01m.\u001b[39;00m\u001b[38;5;21;01mformats\u001b[39;00m\u001b[38;5;21;01m.\u001b[39;00m\u001b[38;5;21;01mprinting\u001b[39;00m \u001b[38;5;28;01mimport\u001b[39;00m (\n\u001b[1;32m    110\u001b[0m     adjoin,\n\u001b[1;32m    111\u001b[0m     justify,\n\u001b[1;32m    112\u001b[0m     pprint_thing,\n\u001b[1;32m    113\u001b[0m )\n\u001b[1;32m    115\u001b[0m \u001b[38;5;28;01mif\u001b[39;00m TYPE_CHECKING:\n",
      "File \u001b[0;32m~/.pyenv/versions/3.11.9/lib/python3.11/site-packages/pandas/io/common.py:8\u001b[0m\n\u001b[1;32m      2\u001b[0m \u001b[38;5;28;01mfrom\u001b[39;00m \u001b[38;5;21;01m__future__\u001b[39;00m \u001b[38;5;28;01mimport\u001b[39;00m annotations\n\u001b[1;32m      4\u001b[0m \u001b[38;5;28;01mfrom\u001b[39;00m \u001b[38;5;21;01mabc\u001b[39;00m \u001b[38;5;28;01mimport\u001b[39;00m (\n\u001b[1;32m      5\u001b[0m     ABC,\n\u001b[1;32m      6\u001b[0m     abstractmethod,\n\u001b[1;32m      7\u001b[0m )\n\u001b[0;32m----> 8\u001b[0m \u001b[38;5;28;01mimport\u001b[39;00m \u001b[38;5;21;01mbz2\u001b[39;00m\n\u001b[1;32m      9\u001b[0m \u001b[38;5;28;01mimport\u001b[39;00m \u001b[38;5;21;01mcodecs\u001b[39;00m\n\u001b[1;32m     10\u001b[0m \u001b[38;5;28;01mimport\u001b[39;00m \u001b[38;5;21;01mdataclasses\u001b[39;00m\n",
      "File \u001b[0;32m~/.pyenv/versions/3.11.9/lib/python3.11/bz2.py:17\u001b[0m\n\u001b[1;32m     14\u001b[0m \u001b[38;5;28;01mimport\u001b[39;00m \u001b[38;5;21;01mos\u001b[39;00m\n\u001b[1;32m     15\u001b[0m \u001b[38;5;28;01mimport\u001b[39;00m \u001b[38;5;21;01m_compression\u001b[39;00m\n\u001b[0;32m---> 17\u001b[0m \u001b[38;5;28;01mfrom\u001b[39;00m \u001b[38;5;21;01m_bz2\u001b[39;00m \u001b[38;5;28;01mimport\u001b[39;00m BZ2Compressor, BZ2Decompressor\n\u001b[1;32m     20\u001b[0m _MODE_CLOSED   \u001b[38;5;241m=\u001b[39m \u001b[38;5;241m0\u001b[39m\n\u001b[1;32m     21\u001b[0m _MODE_READ     \u001b[38;5;241m=\u001b[39m \u001b[38;5;241m1\u001b[39m\n",
      "\u001b[0;31mImportError\u001b[0m: libbz2.so.1.0: cannot open shared object file: No such file or directory"
     ]
    }
   ],
   "source": [
    "from datasets import load_dataset\n",
    "from torch.utils.data import DataLoader, IterableDataset\n",
    "from transformers import PreTrainedTokenizerFast\n",
    "import pickle\n",
    "import os\n",
    "import json\n",
    "\n",
    "# dataset = load_dataset(\"damerajee/english-to-hindi-l\", split=\"train\", streaming=False)\n",
    "# dataset = load_dataset(\"TIGER-Lab/MATH-plus\", split=\"train\", streaming=False)\n",
    "# dataset = load_dataset(\"HuggingFaceFW/fineweb\", name=\"CC-MAIN-2024-10\", split=\"train\", streaming=True)\n",
    "\n",
    "dataset = load_dataset(\"rombodawg/LosslessMegaCodeTrainingV2\", streaming=False, split=\"train\")\n"
   ]
  },
  {
   "cell_type": "code",
   "execution_count": null,
   "metadata": {},
   "outputs": [],
   "source": [
    "tokenizer = PreTrainedTokenizerFast(tokenizer_file=\"large_tokenizer.json\")\n"
   ]
  },
  {
   "cell_type": "code",
   "execution_count": null,
   "metadata": {},
   "outputs": [],
   "source": [
    "def tokenize(text, second = False):\n",
    "    ids = tokenizer.encode(text, add_special_tokens=True)\n",
    "    ids1 = [1] + ids + [2] \n",
    "    ids1 = torch.tensor(ids1, dtype=torch.int16)\n",
    "    \n",
    "    # Pad or truncate the sequence to tholtae max_seq_length\n",
    "    if ids1.size(0) < modelArguments.max_seq_len:\n",
    "        padding_length = modelArguments.max_seq_len - ids1.size(0)\n",
    "        ids1 = torch.cat([ids1, torch.zeros(padding_length, dtype=torch.int16)])\n",
    "        \n",
    "    elif ids1.size(0) >= modelArguments.max_seq_len:\n",
    "        ids1 = ids1[:modelArguments.max_seq_len]\n",
    "        ids1[-1] = 2\n",
    "    return ids1"
   ]
  },
  {
   "cell_type": "code",
   "execution_count": null,
   "metadata": {},
   "outputs": [],
   "source": [
    "class TokenizedIterableDataset(IterableDataset):\n",
    "    def __init__(self, dataset, args,state_file='dataset_state.pkl'):\n",
    "        self.dataset = dataset\n",
    "        self.state_file = state_file\n",
    "        self.buffer = \"\"\n",
    "        self.current_index = 0\n",
    "    #   -  self.load_state()\n",
    "        self.args = args\n",
    "    #     # self.norm = torch.nn.BatchNorm1d(args.enforce_features, affine=False)\n",
    "    #     # self.norm2 = torch.nn.BatchNorm1d(args.enforce_features, affine=False)\n",
    "    #     self.embd = nn.Embedding(32768, 512)\n",
    "\n",
    "\n",
    "    def __iter__(self):\n",
    "        index = 0\n",
    "        buffer = None\n",
    "        for example in self.dataset:\n",
    "            # print(\"len of exp :\",self.dataset)\n",
    "            if index < self.current_index:\n",
    "                index += 1\n",
    "                continue\n",
    "            # print(example)\n",
    "            instruction = example['USER']\n",
    "            output = example['ASSISTANT']\n",
    "\n",
    "            out = instruction + \"\\n\" + output\n",
    "            out = tokenize(out)\n",
    "            yield out\n",
    "            self.current_index = index\n",
    "            index += 1\n",
    "\n",
    "\n",
    "        #     text = example['text']\n",
    "        #     lines = text.split('.')\n",
    "        #     # print(\"# lines :\",len(lines))\n",
    "        #     for line in lines:\n",
    "        #         # if (buffer != None):\n",
    "        #         #     yield buffer\n",
    "        #         self.buffer += line \n",
    "        #         if len(self.buffer)  >= modelArguments.max_seq_len*5:\n",
    "        #             tokenized_input = tokenize(self.buffer)\n",
    "\n",
    "                    \n",
    "        #             yield tokenized_input\n",
    "        #             self.buffer = line \n",
    "\n",
    "\n",
    "        #     self.current_index = index\n",
    "        #     # self.save_state()\n",
    "        #     index += 1\n",
    "\n",
    "        # # Tokenize the remaining buffer if it's not empty\n",
    "        # if len(self.buffer) > 0:\n",
    "        #     tokenized_input = tokenize(self.buffer)\n",
    "        #     if tokenized_input is not None:\n",
    "        #         yield tokenized_input\n",
    "\n",
    "\n",
    "\n",
    "\n",
    "    def save_state(self):\n",
    "        state = {'buffer': self.buffer, 'current_index': self.current_index}\n",
    "        with open(self.state_file, 'wb') as f:\n",
    "            pickle.dump(state, f)\n",
    "\n",
    "    def load_state(self):\n",
    "        if os.path.exists(self.state_file):\n",
    "            with open(self.state_file, 'rb') as f:\n",
    "                state = pickle.load(f)\n",
    "                self.buffer = state.get('buffer', \"\")\n",
    "                self.current_index = state.get('current_index', 0)\n",
    "\n",
    "    def reset(self):\n",
    "        self.buffer = \"\"\n",
    "        self.current_index = 0\n",
    "        # self.save_state()\n",
    "\n",
    "def collate_fn(batch): # Maximum number of attempts to create a valid batch\n",
    "    \n",
    "        # for attempt in range(max_attempts):\n",
    "        inputs = torch.stack([item for item in batch])\n",
    "\n",
    "        return inputs\n",
    "# Create an instance of the IterableDataset\n",
    "train_dataset = TokenizedIterableDataset(dataset,modelArguments)\n",
    "\n",
    "# Create a DataLoader\n",
    "train_dataloader = DataLoader(train_dataset, batch_size=modelArguments.max_batch_size, collate_fn=collate_fn)\n"
   ]
  },
  {
   "cell_type": "code",
   "execution_count": null,
   "metadata": {},
   "outputs": [
    {
     "name": "stdout",
     "output_type": "stream",
     "text": [
      "torch.Size([8, 256])\n"
     ]
    }
   ],
   "source": [
    "var = 0\n",
    "for k, a in enumerate(train_dataloader):\n",
    "    print(a.shape)\n",
    "    break\n",
    "    \n",
    "\n",
    "# print(var)\n",
    "\n"
   ]
  },
  {
   "cell_type": "code",
   "execution_count": null,
   "metadata": {},
   "outputs": [],
   "source": []
  },
  {
   "cell_type": "code",
   "execution_count": null,
   "metadata": {},
   "outputs": [],
   "source": [
    "def id_to_token(x):\n",
    "    s = ''\n",
    "    for i in x[0]:\n",
    "        # j = torch.argmax(i)\n",
    "        s += tokenizer.decode(i)\n",
    "\n",
    "    return s\n",
    "\n",
    "def id_to_token_M(x):\n",
    "    s = ''\n",
    "    for i in x[0]:\n",
    "        j = torch.argmax(i)\n",
    "        s += tokenizer.decode(j)\n",
    "\n",
    "    return s"
   ]
  },
  {
   "cell_type": "code",
   "execution_count": null,
   "metadata": {},
   "outputs": [],
   "source": [
    "class TransformerLRScheduler(torch.optim.lr_scheduler.LambdaLR):\n",
    "    def __init__(self, optimizer, d_model, warmup_steps):\n",
    "        self.d_model = d_model\n",
    "        self.warmup_steps = warmup_steps\n",
    "        super().__init__(optimizer, self.lr_lambda)\n",
    "\n",
    "    def lr_lambda(self, step):\n",
    "        step = max(step, 1)  # To avoid division by zero\n",
    "        return (self.d_model ** -0.5) * min(step ** -0.5, step * self.warmup_steps ** -1.5)\n"
   ]
  },
  {
   "cell_type": "code",
   "execution_count": null,
   "metadata": {},
   "outputs": [
    {
     "name": "stderr",
     "output_type": "stream",
     "text": [
      "/tmp/ipykernel_435874/3639298228.py:2: FutureWarning: You are using `torch.load` with `weights_only=False` (the current default value), which uses the default pickle module implicitly. It is possible to construct malicious pickle data which will execute arbitrary code during unpickling (See https://github.com/pytorch/pytorch/blob/main/SECURITY.md#untrusted-models for more details). In a future release, the default value for `weights_only` will be flipped to `True`. This limits the functions that could be executed during unpickling. Arbitrary objects will no longer be allowed to be loaded via this mode unless they are explicitly allowlisted by the user via `torch.serialization.add_safe_globals`. We recommend you start setting `weights_only=True` for any use case where you don't have full control of the loaded file. Please open an issue on GitHub for any issues related to this experimental feature.\n",
      "  history = torch.load('checkpoints/history0.pth')\n"
     ]
    }
   ],
   "source": [
    "# history = []\n",
    "history = torch.load('checkpoints/history0.pth')\n",
    "rloss = 0"
   ]
  },
  {
   "cell_type": "code",
   "execution_count": null,
   "metadata": {},
   "outputs": [
    {
     "name": "stderr",
     "output_type": "stream",
     "text": [
      "/tmp/ipykernel_435874/596763365.py:6: FutureWarning: You are using `torch.load` with `weights_only=False` (the current default value), which uses the default pickle module implicitly. It is possible to construct malicious pickle data which will execute arbitrary code during unpickling (See https://github.com/pytorch/pytorch/blob/main/SECURITY.md#untrusted-models for more details). In a future release, the default value for `weights_only` will be flipped to `True`. This limits the functions that could be executed during unpickling. Arbitrary objects will no longer be allowed to be loaded via this mode unless they are explicitly allowlisted by the user via `torch.serialization.add_safe_globals`. We recommend you start setting `weights_only=True` for any use case where you don't have full control of the loaded file. Please open an issue on GitHub for any issues related to this experimental feature.\n",
      "  optimizer.load_state_dict(torch.load('checkpoints/optimizer0.pth'))\n"
     ]
    }
   ],
   "source": [
    "loss_fn = nn.CrossEntropyLoss(ignore_index=0)\n",
    "loss_fn2 = nn.MSELoss()\n",
    "loss_fn3 = nn.MSELoss()\n",
    "loss_fn4 = nn.MSELoss()\n",
    "optimizer = torch.optim.AdamW(fmodel.parameters(), betas=(0.9, 0.99), lr = 3e-4)\n",
    "optimizer.load_state_dict(torch.load('checkpoints/optimizer0.pth'))\n",
    "optimizer.zero_grad()\n",
    "torch.cuda.empty_cache()\n",
    "# schedular = TransformerLRScheduler(optimizer, 512, 500)"
   ]
  },
  {
   "cell_type": "code",
   "execution_count": null,
   "metadata": {},
   "outputs": [],
   "source": [
    "import matplotlib.pyplot as plt\n",
    "import numpy as np\n",
    "import torch\n",
    "\n",
    "def plot_loss_with_trend(loss_array, window_size=25):\n",
    "    \"\"\"\n",
    "    Plots the loss function with an additional line to show the trend.\n",
    "\n",
    "    Args:\n",
    "    loss_array (list or np.array): Array of loss values.\n",
    "    window_size (int): The window size for calculating the moving average trend line.\n",
    "    \"\"\"\n",
    "    # Convert loss_array to a numpy array if it's not already\n",
    "    loss_array = np.array(loss_array)\n",
    "\n",
    "    # Calculate the moving average for the trend line\n",
    "    trend_line = np.convolve(loss_array, np.ones(window_size)/window_size, mode='valid')\n",
    "    trend = (trend_line[0]-trend_line[-1])/trend_line.size\n",
    "    trend2 = (trend_line[-1]-trend_line[-window_size-1])/window_size if len(trend_line) > window_size else 0\n",
    "    \n",
    "\n",
    "    # Plot the loss function\n",
    "    print(\"overall :\",trend)\n",
    "    print(\"last window :\",trend2)\n",
    "\n",
    "    plt.figure(figsize=(10, 6))\n",
    "    plt.plot(loss_array, label='Loss', color='blue', alpha=0.6)\n",
    "    plt.plot(range(window_size - 1, len(loss_array)), trend_line, label='Trend', color='red', linestyle='--', linewidth=2)\n",
    "\n",
    "    # Adding labels and title\n",
    "    plt.xlabel('Epochs')\n",
    "    plt.ylabel('Loss')\n",
    "    # plt.yscale('log')\n",
    "    plt.title('Loss Function with Trend Line')\n",
    "    plt.legend()\n",
    "    plt.grid(True)\n",
    "    plt.savefig('current_loss.jpg')\n",
    "    plt.show()"
   ]
  },
  {
   "cell_type": "code",
   "execution_count": null,
   "metadata": {},
   "outputs": [],
   "source": [
    "optimizer.zero_grad()\n",
    "torch.cuda.empty_cache()\n",
    "from IPython.display import clear_output\n",
    "rloss = 0\n"
   ]
  },
  {
   "cell_type": "code",
   "execution_count": null,
   "metadata": {},
   "outputs": [
    {
     "name": "stdout",
     "output_type": "stream",
     "text": [
      "[29487, 261, 2453, 2168]\n"
     ]
    },
    {
     "ename": "AttributeError",
     "evalue": "'list' object has no attribute 'repeat'",
     "output_type": "error",
     "traceback": [
      "\u001b[0;31m---------------------------------------------------------------------------\u001b[0m",
      "\u001b[0;31mAttributeError\u001b[0m                            Traceback (most recent call last)",
      "Cell \u001b[0;32mIn[41], line 4\u001b[0m\n\u001b[1;32m      2\u001b[0m generated_id  \u001b[38;5;241m=\u001b[39m tokenizer\u001b[38;5;241m.\u001b[39mencode(sentence) \u001b[38;5;66;03m#.to(torch.long).to('cuda').unsqueeze(0)\u001b[39;00m\n\u001b[1;32m      3\u001b[0m \u001b[38;5;28mprint\u001b[39m(generated_id)\n\u001b[0;32m----> 4\u001b[0m generated_ids \u001b[38;5;241m=\u001b[39m \u001b[43mgenerated_id\u001b[49m\u001b[38;5;241;43m.\u001b[39;49m\u001b[43mrepeat\u001b[49m(\u001b[38;5;241m2\u001b[39m, \u001b[38;5;241m1\u001b[39m)\n",
      "\u001b[0;31mAttributeError\u001b[0m: 'list' object has no attribute 'repeat'"
     ]
    }
   ],
   "source": [
    "\n",
    "sentence = \"\"\"Write a python function to add two numbers\"\"\"\n",
    "generated_id  = torch.tensor(tokenizer.encode(sentence)).to(torch.long).to('cuda').unsqueeze(0)\n",
    "\n",
    "generated_ids = generated_id.repeat(2, 1)"
   ]
  },
  {
   "cell_type": "code",
   "execution_count": null,
   "metadata": {},
   "outputs": [],
   "source": [
    "TORCHDYNAMO_VERBOSE=1"
   ]
  },
  {
   "cell_type": "code",
   "execution_count": null,
   "metadata": {},
   "outputs": [
    {
     "data": {
      "text/plain": [
       "torch.Size([2, 256])"
      ]
     },
     "execution_count": 38,
     "metadata": {},
     "output_type": "execute_result"
    }
   ],
   "source": [
    "generated_ids.shape"
   ]
  },
  {
   "cell_type": "code",
   "execution_count": null,
   "metadata": {},
   "outputs": [
    {
     "name": "stdout",
     "output_type": "stream",
     "text": [
      "------  Loss: 3.0447061955928802 ------ \n",
      "\n",
      "torch.Size([2, 256])\n",
      "0\n",
      "1\n"
     ]
    },
    {
     "ename": "RuntimeError",
     "evalue": "The size of tensor a (257) must match the size of tensor b (256) at non-singleton dimension 1",
     "output_type": "error",
     "traceback": [
      "\u001b[0;31m---------------------------------------------------------------------------\u001b[0m",
      "\u001b[0;31mRuntimeError\u001b[0m                              Traceback (most recent call last)",
      "Cell \u001b[0;32mIn[33], line 45\u001b[0m\n\u001b[1;32m     43\u001b[0m \u001b[38;5;28mprint\u001b[39m(_)\n\u001b[1;32m     44\u001b[0m \u001b[38;5;28;01mwith\u001b[39;00m torch\u001b[38;5;241m.\u001b[39mno_grad():\n\u001b[0;32m---> 45\u001b[0m     logits \u001b[38;5;241m=\u001b[39m \u001b[43mfmodel\u001b[49m\u001b[43m(\u001b[49m\u001b[43mgenerated_ids\u001b[49m\u001b[43m)\u001b[49m  \u001b[38;5;66;03m# Pass the current sequence to the model\u001b[39;00m\n\u001b[1;32m     46\u001b[0m     next_token_logits \u001b[38;5;241m=\u001b[39m logits[:, \u001b[38;5;241m-\u001b[39m\u001b[38;5;241m1\u001b[39m, :]  \u001b[38;5;66;03m# Get logits for the last token\u001b[39;00m\n\u001b[1;32m     49\u001b[0m \u001b[38;5;66;03m# Predict the next token (greedy decoding)\u001b[39;00m\n",
      "File \u001b[0;32m~/.conda/envs/DL/lib/python3.11/site-packages/torch/nn/modules/module.py:1736\u001b[0m, in \u001b[0;36mModule._wrapped_call_impl\u001b[0;34m(self, *args, **kwargs)\u001b[0m\n\u001b[1;32m   1734\u001b[0m     \u001b[38;5;28;01mreturn\u001b[39;00m \u001b[38;5;28mself\u001b[39m\u001b[38;5;241m.\u001b[39m_compiled_call_impl(\u001b[38;5;241m*\u001b[39margs, \u001b[38;5;241m*\u001b[39m\u001b[38;5;241m*\u001b[39mkwargs)  \u001b[38;5;66;03m# type: ignore[misc]\u001b[39;00m\n\u001b[1;32m   1735\u001b[0m \u001b[38;5;28;01melse\u001b[39;00m:\n\u001b[0;32m-> 1736\u001b[0m     \u001b[38;5;28;01mreturn\u001b[39;00m \u001b[38;5;28;43mself\u001b[39;49m\u001b[38;5;241;43m.\u001b[39;49m\u001b[43m_call_impl\u001b[49m\u001b[43m(\u001b[49m\u001b[38;5;241;43m*\u001b[39;49m\u001b[43margs\u001b[49m\u001b[43m,\u001b[49m\u001b[43m \u001b[49m\u001b[38;5;241;43m*\u001b[39;49m\u001b[38;5;241;43m*\u001b[39;49m\u001b[43mkwargs\u001b[49m\u001b[43m)\u001b[49m\n",
      "File \u001b[0;32m~/.conda/envs/DL/lib/python3.11/site-packages/torch/nn/modules/module.py:1747\u001b[0m, in \u001b[0;36mModule._call_impl\u001b[0;34m(self, *args, **kwargs)\u001b[0m\n\u001b[1;32m   1742\u001b[0m \u001b[38;5;66;03m# If we don't have any hooks, we want to skip the rest of the logic in\u001b[39;00m\n\u001b[1;32m   1743\u001b[0m \u001b[38;5;66;03m# this function, and just call forward.\u001b[39;00m\n\u001b[1;32m   1744\u001b[0m \u001b[38;5;28;01mif\u001b[39;00m \u001b[38;5;129;01mnot\u001b[39;00m (\u001b[38;5;28mself\u001b[39m\u001b[38;5;241m.\u001b[39m_backward_hooks \u001b[38;5;129;01mor\u001b[39;00m \u001b[38;5;28mself\u001b[39m\u001b[38;5;241m.\u001b[39m_backward_pre_hooks \u001b[38;5;129;01mor\u001b[39;00m \u001b[38;5;28mself\u001b[39m\u001b[38;5;241m.\u001b[39m_forward_hooks \u001b[38;5;129;01mor\u001b[39;00m \u001b[38;5;28mself\u001b[39m\u001b[38;5;241m.\u001b[39m_forward_pre_hooks\n\u001b[1;32m   1745\u001b[0m         \u001b[38;5;129;01mor\u001b[39;00m _global_backward_pre_hooks \u001b[38;5;129;01mor\u001b[39;00m _global_backward_hooks\n\u001b[1;32m   1746\u001b[0m         \u001b[38;5;129;01mor\u001b[39;00m _global_forward_hooks \u001b[38;5;129;01mor\u001b[39;00m _global_forward_pre_hooks):\n\u001b[0;32m-> 1747\u001b[0m     \u001b[38;5;28;01mreturn\u001b[39;00m \u001b[43mforward_call\u001b[49m\u001b[43m(\u001b[49m\u001b[38;5;241;43m*\u001b[39;49m\u001b[43margs\u001b[49m\u001b[43m,\u001b[49m\u001b[43m \u001b[49m\u001b[38;5;241;43m*\u001b[39;49m\u001b[38;5;241;43m*\u001b[39;49m\u001b[43mkwargs\u001b[49m\u001b[43m)\u001b[49m\n\u001b[1;32m   1749\u001b[0m result \u001b[38;5;241m=\u001b[39m \u001b[38;5;28;01mNone\u001b[39;00m\n\u001b[1;32m   1750\u001b[0m called_always_called_hooks \u001b[38;5;241m=\u001b[39m \u001b[38;5;28mset\u001b[39m()\n",
      "File \u001b[0;32m~/Projects/mGPT/miniGPT/Model.py:157\u001b[0m, in \u001b[0;36mmodel.forward\u001b[0;34m(self, in_token)\u001b[0m\n\u001b[1;32m    153\u001b[0m inp_embd \u001b[38;5;241m=\u001b[39m \u001b[38;5;28mself\u001b[39m\u001b[38;5;241m.\u001b[39mshared_emb\u001b[38;5;241m.\u001b[39membedding(in_token)\n\u001b[1;32m    154\u001b[0m \u001b[38;5;66;03m# inp_embd = F.dropout(inp_embd, self.args.dropout)\u001b[39;00m\n\u001b[1;32m    155\u001b[0m \u001b[38;5;66;03m# print(self.enc.shape)\u001b[39;00m\n\u001b[1;32m    156\u001b[0m \u001b[38;5;66;03m# print(inp_embd.shape)\u001b[39;00m\n\u001b[0;32m--> 157\u001b[0m inp_embd \u001b[38;5;241m=\u001b[39m \u001b[43minp_embd\u001b[49m\u001b[43m \u001b[49m\u001b[38;5;241;43m+\u001b[39;49m\u001b[43m \u001b[49m\u001b[38;5;28;43mself\u001b[39;49m\u001b[38;5;241;43m.\u001b[39;49m\u001b[43menc\u001b[49m\u001b[43m[\u001b[49m\u001b[43m:\u001b[49m\u001b[43minp_embd\u001b[49m\u001b[38;5;241;43m.\u001b[39;49m\u001b[43msize\u001b[49m\u001b[43m(\u001b[49m\u001b[38;5;241;43m1\u001b[39;49m\u001b[43m)\u001b[49m\u001b[43m,\u001b[49m\u001b[43m \u001b[49m\u001b[43m:\u001b[49m\u001b[43m]\u001b[49m\n\u001b[1;32m    158\u001b[0m \u001b[38;5;66;03m# print(freq.shape)\u001b[39;00m\n\u001b[1;32m    159\u001b[0m prev_layer \u001b[38;5;241m=\u001b[39m inp_embd\n",
      "\u001b[0;31mRuntimeError\u001b[0m: The size of tensor a (257) must match the size of tensor b (256) at non-singleton dimension 1"
     ]
    }
   ],
   "source": [
    "open = False\n",
    "for epoch in range(4000):\n",
    "    # data_loader = tqdm(train_dataloader, unit=\"batch\")\n",
    "    global_step = 0\n",
    "    train_dataset.reset()\n",
    "    sloss = 0\n",
    "    train_dataloader = DataLoader(train_dataset, batch_size=modelArguments.max_batch_size, collate_fn=collate_fn)\n",
    "    for batch_idx, a in enumerate(train_dataloader):\n",
    "\n",
    "        a = a.to(torch.long).to('cuda')\n",
    "\n",
    "        max_no_tokens = 2**7       # accumulation_steps2 = 1\n",
    "        accumulation_steps = max_no_tokens//(modelArguments.max_batch_size)\n",
    "\n",
    "\n",
    "\n",
    "        t0 = time.time()\n",
    "        out = fmodel(a)\n",
    "        loss = loss_fn(out[:, :modelArguments.max_seq_len-1, :].contiguous().view(-1, out.size(-1)), a[:, 1:modelArguments.max_seq_len].contiguous().view(-1)) #+ loss_fn3(se, d)\n",
    "        # loss = loss_fn3(se,d)\n",
    "        loss = loss / accumulation_steps\n",
    "\n",
    "\n",
    "\n",
    "        rloss += loss.item()\n",
    "        # scaler.scale(loss).backward()\n",
    "        loss.backward()\n",
    "\n",
    "\n",
    "        if (batch_idx+1) % ((max_no_tokens / modelArguments.max_batch_size)*2) == 0 or math.isnan(loss):\n",
    "            # torch.save(fmodel.state_dict(), 'checkpoints/model_weightsBPE0.pth')\n",
    "            # torch.save(optimizer.state_dict(), 'checkpoints/optimizer0.pth')\n",
    "            # torch.save(history, 'checkpoints/history0.pth')        \n",
    "\n",
    "            clear_output()\n",
    "            print(\"-\"*6,f\" Loss: {rloss}\", \"-\"*6,\"\\n\")\n",
    "            # print(\"out: \", id_to_token(a, tokenizer),\"\\n\")\n",
    "\n",
    "            generated_ids = generated_id.repeat(2, 1)\n",
    "            # print(generated_ids.shape)\n",
    "\n",
    "            for _ in range(20): #modelArguments.max_seq_len-generated_ids.size(1)):  # Generate up to 20 tokens\n",
    "                # print(_)\n",
    "                with torch.no_grad():\n",
    "                    logits = fmodel(generated_ids)  # Pass the current sequence to the model\n",
    "                    next_token_logits = logits[:, -1, :]  # Get logits for the last token\n",
    "\n",
    "\n",
    "                # Predict the next token (greedy decoding)\n",
    "                next_token_id = torch.argmax(next_token_logits, dim=-1).unsqueeze(1)  # Shape: [1, 1]\n",
    "\n",
    "                # Append the predicted token to the sequence\n",
    "                generated_ids = torch.cat([generated_ids, next_token_id], dim=-1)\n",
    "\n",
    "            # print(generated_ids.shape)\n",
    "            output_text = tokenizer.decode(generated_ids[0])\n",
    "            print(\"Generated text 1:\", output_text)\n",
    "            print(\"\\n\")\n",
    "            output_text = tokenizer.decode(generated_ids[1])\n",
    "            print(\"Generated text 2:\", output_text)\n",
    "\n",
    "\n",
    "            print('\\n')\n",
    "            fmodel.train()\n",
    "            \n",
    "        \n",
    "        if (batch_idx+1) % accumulation_steps == 0:\n",
    "            # scaler.unscale_(optimizer)\n",
    "            torch.nn.utils.clip_grad_norm_(fmodel.parameters(), max_norm=1)\n",
    "            # scaler.step(optimizer)\n",
    "            optimizer.step()\n",
    "            # schedular.step()\n",
    "            # scaler.update()\n",
    "            global_step += 1\n",
    "            optimizer.zero_grad()\n",
    "\n",
    "            history.append(rloss)\n",
    "            \n",
    "            torch.cuda.synchronize()\n",
    "            t1 = time.time()\n",
    "\n",
    "            dt = (t1-t0)*1000 \n",
    "        # if (batch_idx % 10 == 0):       \n",
    "            # print(f\"-----Steps : {global_step}, Loss: {rloss:8f}, LR: {schedular.get_last_lr()}, #tokens : {max_no_tokens} ,timeT : {dt}ms ----- \")\n",
    "            print(f\"-----Steps : {global_step}, BatchIDX : {batch_idx}, Loss: {rloss:8f}, #tokens : {max_no_tokens} ,timeT : {dt}ms ----- \")\n",
    "    \n",
    "            rloss = 0\n",
    "        torch.cuda.empty_cache()\n",
    "\n",
    "    print(f\"Epoch {epoch+1} completed, {batch_idx}\")   \n",
    "\n",
    "\n"
   ]
  },
  {
   "cell_type": "code",
   "execution_count": null,
   "metadata": {},
   "outputs": [],
   "source": [
    "se[0], e[0]"
   ]
  },
  {
   "cell_type": "code",
   "execution_count": null,
   "metadata": {},
   "outputs": [],
   "source": [
    "torch.save(fmodel.state_dict(), 'checkpoints/model_weightsBPE6.pth')\n",
    "torch.save(optimizer.state_dict(), 'checkpoints/optimizer1.pth')\n",
    "torch.save(history, 'checkpoints/history1.pth')             "
   ]
  },
  {
   "cell_type": "code",
   "execution_count": null,
   "metadata": {},
   "outputs": [],
   "source": []
  },
  {
   "cell_type": "code",
   "execution_count": null,
   "metadata": {},
   "outputs": [
    {
     "name": "stderr",
     "output_type": "stream",
     "text": [
      "/tmp/ipykernel_274/1746490908.py:40: FutureWarning: You are using `torch.load` with `weights_only=False` (the current default value), which uses the default pickle module implicitly. It is possible to construct malicious pickle data which will execute arbitrary code during unpickling (See https://github.com/pytorch/pytorch/blob/main/SECURITY.md#untrusted-models for more details). In a future release, the default value for `weights_only` will be flipped to `True`. This limits the functions that could be executed during unpickling. Arbitrary objects will no longer be allowed to be loaded via this mode unless they are explicitly allowlisted by the user via `torch.serialization.add_safe_globals`. We recommend you start setting `weights_only=True` for any use case where you don't have full control of the loaded file. Please open an issue on GitHub for any issues related to this experimental feature.\n",
      "  history = torch.load('checkpoints/history.pth')\n"
     ]
    },
    {
     "name": "stdout",
     "output_type": "stream",
     "text": [
      "overall : 4.230566993853011e-05\n",
      "last window : 6.0174795091159085e-06\n"
     ]
    },
    {
     "data": {
      "image/png": "[encoded data removed]",
      "text/plain": [
       "<Figure size 1000x600 with 1 Axes>"
      ]
     },
     "metadata": {},
     "output_type": "display_data"
    }
   ],
   "source": [
    "import matplotlib.pyplot as plt\n",
    "import numpy as np\n",
    "import torch\n",
    "\n",
    "def plot_loss_with_trend(loss_array, window_size=25):\n",
    "    \"\"\"\n",
    "    Plots the loss function with an additional line to show the trend.\n",
    "\n",
    "    Args:\n",
    "    loss_array (list or np.array): Array of loss values.\n",
    "    window_size (int): The window size for calculating the moving average trend line.\n",
    "    \"\"\"\n",
    "    # Convert loss_array to a numpy array if it's not already\n",
    "    loss_array = np.array(loss_array)\n",
    "\n",
    "    # Calculate the moving average for the trend line\n",
    "    trend_line = np.convolve(loss_array, np.ones(window_size)/window_size, mode='valid')\n",
    "    trend = (trend_line[0]-trend_line[-1])/trend_line.size\n",
    "    trend2 = (trend_line[-1]-trend_line[-window_size-1])/window_size if len(trend_line) > window_size else 0\n",
    "    \n",
    "\n",
    "    # Plot the loss function\n",
    "    print(\"overall :\",trend)\n",
    "    print(\"last window :\",trend2)\n",
    "\n",
    "    plt.figure(figsize=(10, 6))\n",
    "    plt.plot(loss_array, label='Loss', color='blue', alpha=0.6)\n",
    "    plt.plot(range(window_size - 1, len(loss_array)), trend_line, label='Trend', color='red', linestyle='--', linewidth=2)\n",
    "\n",
    "    # Adding labels and title\n",
    "    plt.xlabel('Epochs')\n",
    "    plt.ylabel('Loss')\n",
    "    # plt.yscale('log')\n",
    "    plt.title('Loss Function with Trend Line')\n",
    "    plt.legend()\n",
    "    plt.grid(True)\n",
    "    plt.savefig('current_loss.jpg')\n",
    "    plt.show()\n",
    "\n",
    "history = torch.load('checkpoints/history.pth')\n",
    "plot_loss_with_trend(history[000:], window_size=1000)"
   ]
  },
  {
   "cell_type": "markdown",
   "metadata": {},
   "source": []
  },
  {
   "cell_type": "markdown",
   "metadata": {},
   "source": []
  },
  {
   "cell_type": "markdown",
   "metadata": {},
   "source": []
  }
 ],
 "metadata": {
  "kernelspec": {
   "display_name": "Python 3 (ipykernel)",
   "language": "python",
   "name": "python3"
  },
  "language_info": {
   "codemirror_mode": {
    "name": "ipython",
    "version": 3
   },
   "file_extension": ".py",
   "mimetype": "text/x-python",
   "name": "python",
   "nbconvert_exporter": "python",
   "pygments_lexer": "ipython3",
   "version": "3.11.10"
  }
 },
 "nbformat": 4,
 "nbformat_minor": 4
}
