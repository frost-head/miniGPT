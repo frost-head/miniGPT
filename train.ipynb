{
 "cells": [
  {
   "cell_type": "code",
   "execution_count": 1,
   "metadata": {},
   "outputs": [],
   "source": [
    "import torch\n",
    "import torch.nn as nn\n",
    "from Model import model, modelArguments\n",
    "import time\n",
    "import re\n",
    "import math"
   ]
  },
  {
   "cell_type": "code",
   "execution_count": 2,
   "metadata": {},
   "outputs": [],
   "source": [
    "CUDA_LAUCH_BLOCKING = 1\n",
    "\n",
    "TORCH_USE_CUDA_DSA = True\n",
    "\n"
   ]
  },
  {
   "cell_type": "code",
   "execution_count": 3,
   "metadata": {},
   "outputs": [],
   "source": [
    "torch.set_float32_matmul_precision('medium')"
   ]
  },
  {
   "cell_type": "code",
   "execution_count": 4,
   "metadata": {},
   "outputs": [],
   "source": [
    "def count_parameters(model):\n",
    "    return sum(p.numel() for p in model.parameters() if p.requires_grad)\n"
   ]
  },
  {
   "cell_type": "code",
   "execution_count": 5,
   "metadata": {},
   "outputs": [],
   "source": [
    "fmodel = model(modelArguments)\n",
    "fmodel = fmodel.to('cuda')\n",
    "\n"
   ]
  },
  {
   "cell_type": "code",
   "execution_count": 6,
   "metadata": {},
   "outputs": [],
   "source": [
    "# fmodel(a, a)"
   ]
  },
  {
   "cell_type": "code",
   "execution_count": 7,
   "metadata": {},
   "outputs": [
    {
     "name": "stdout",
     "output_type": "stream",
     "text": [
      "shared_emb.shared_weight\n",
      "enc_layers.0.norm1.weight\n",
      "enc_layers.0.norm1.bias\n",
      "enc_layers.0.norm2.weight\n",
      "enc_layers.0.norm2.bias\n",
      "enc_layers.0.attention.q_linear.weight\n",
      "enc_layers.0.attention.k_linear.weight\n",
      "enc_layers.0.attention.v_linear.weight\n",
      "enc_layers.0.attention.out_linear.weight\n",
      "enc_layers.0.feedforward.fc1.weight\n",
      "enc_layers.0.feedforward.fc2.weight\n",
      "enc_layers.1.norm1.weight\n",
      "enc_layers.1.norm1.bias\n",
      "enc_layers.1.norm2.weight\n",
      "enc_layers.1.norm2.bias\n",
      "enc_layers.1.attention.q_linear.weight\n",
      "enc_layers.1.attention.k_linear.weight\n",
      "enc_layers.1.attention.v_linear.weight\n",
      "enc_layers.1.attention.out_linear.weight\n",
      "enc_layers.1.feedforward.fc1.weight\n",
      "enc_layers.1.feedforward.fc2.weight\n",
      "enc_layers.2.norm1.weight\n",
      "enc_layers.2.norm1.bias\n",
      "enc_layers.2.norm2.weight\n",
      "enc_layers.2.norm2.bias\n",
      "enc_layers.2.attention.q_linear.weight\n",
      "enc_layers.2.attention.k_linear.weight\n",
      "enc_layers.2.attention.v_linear.weight\n",
      "enc_layers.2.attention.out_linear.weight\n",
      "enc_layers.2.feedforward.fc1.weight\n",
      "enc_layers.2.feedforward.fc2.weight\n",
      "enc_layers.3.norm1.weight\n",
      "enc_layers.3.norm1.bias\n",
      "enc_layers.3.norm2.weight\n",
      "enc_layers.3.norm2.bias\n",
      "enc_layers.3.attention.q_linear.weight\n",
      "enc_layers.3.attention.k_linear.weight\n",
      "enc_layers.3.attention.v_linear.weight\n",
      "enc_layers.3.attention.out_linear.weight\n",
      "enc_layers.3.feedforward.fc1.weight\n",
      "enc_layers.3.feedforward.fc2.weight\n",
      "enc_layers.4.norm1.weight\n",
      "enc_layers.4.norm1.bias\n",
      "enc_layers.4.norm2.weight\n",
      "enc_layers.4.norm2.bias\n",
      "enc_layers.4.attention.q_linear.weight\n",
      "enc_layers.4.attention.k_linear.weight\n",
      "enc_layers.4.attention.v_linear.weight\n",
      "enc_layers.4.attention.out_linear.weight\n",
      "enc_layers.4.feedforward.fc1.weight\n",
      "enc_layers.4.feedforward.fc2.weight\n",
      "enc_layers.5.norm1.weight\n",
      "enc_layers.5.norm1.bias\n",
      "enc_layers.5.norm2.weight\n",
      "enc_layers.5.norm2.bias\n",
      "enc_layers.5.attention.q_linear.weight\n",
      "enc_layers.5.attention.k_linear.weight\n",
      "enc_layers.5.attention.v_linear.weight\n",
      "enc_layers.5.attention.out_linear.weight\n",
      "enc_layers.5.feedforward.fc1.weight\n",
      "enc_layers.5.feedforward.fc2.weight\n",
      "enc_layers.6.norm1.weight\n",
      "enc_layers.6.norm1.bias\n",
      "enc_layers.6.norm2.weight\n",
      "enc_layers.6.norm2.bias\n",
      "enc_layers.6.attention.q_linear.weight\n",
      "enc_layers.6.attention.k_linear.weight\n",
      "enc_layers.6.attention.v_linear.weight\n",
      "enc_layers.6.attention.out_linear.weight\n",
      "enc_layers.6.feedforward.fc1.weight\n",
      "enc_layers.6.feedforward.fc2.weight\n",
      "enc_layers.7.norm1.weight\n",
      "enc_layers.7.norm1.bias\n",
      "enc_layers.7.norm2.weight\n",
      "enc_layers.7.norm2.bias\n",
      "enc_layers.7.attention.q_linear.weight\n",
      "enc_layers.7.attention.k_linear.weight\n",
      "enc_layers.7.attention.v_linear.weight\n",
      "enc_layers.7.attention.out_linear.weight\n",
      "enc_layers.7.feedforward.fc1.weight\n",
      "enc_layers.7.feedforward.fc2.weight\n",
      "norm.weight\n",
      "norm.bias\n"
     ]
    }
   ],
   "source": [
    "for name, para in fmodel.named_parameters():\n",
    "    print(name)"
   ]
  },
  {
   "cell_type": "code",
   "execution_count": null,
   "metadata": {},
   "outputs": [],
   "source": [
    "\n",
    "\n"
   ]
  },
  {
   "cell_type": "code",
   "execution_count": null,
   "metadata": {},
   "outputs": [
    {
     "name": "stderr",
     "output_type": "stream",
     "text": [
      "/tmp/ipykernel_32102/3620063255.py:14: FutureWarning: You are using `torch.load` with `weights_only=False` (the current default value), which uses the default pickle module implicitly. It is possible to construct malicious pickle data which will execute arbitrary code during unpickling (See https://github.com/pytorch/pytorch/blob/main/SECURITY.md#untrusted-models for more details). In a future release, the default value for `weights_only` will be flipped to `True`. This limits the functions that could be executed during unpickling. Arbitrary objects will no longer be allowed to be loaded via this mode unless they are explicitly allowlisted by the user via `torch.serialization.add_safe_globals`. We recommend you start setting `weights_only=True` for any use case where you don't have full control of the loaded file. Please open an issue on GitHub for any issues related to this experimental feature.\n",
      "  state_dict = torch.load('./checkpoints/model_weightsBPE6.pth')\n"
     ]
    },
    {
     "ename": "RuntimeError",
     "evalue": "Error(s) in loading state_dict for model:\n\tsize mismatch for shared_emb.shared_weight: copying a param with shape torch.Size([32768, 768]) from checkpoint, the shape in current model is torch.Size([32768, 512]).\n\tsize mismatch for enc_layers.0.norm1.weight: copying a param with shape torch.Size([768]) from checkpoint, the shape in current model is torch.Size([512]).\n\tsize mismatch for enc_layers.0.norm1.bias: copying a param with shape torch.Size([768]) from checkpoint, the shape in current model is torch.Size([512]).\n\tsize mismatch for enc_layers.0.norm2.weight: copying a param with shape torch.Size([768]) from checkpoint, the shape in current model is torch.Size([512]).\n\tsize mismatch for enc_layers.0.norm2.bias: copying a param with shape torch.Size([768]) from checkpoint, the shape in current model is torch.Size([512]).\n\tsize mismatch for enc_layers.0.attention.q_linear.weight: copying a param with shape torch.Size([768, 768]) from checkpoint, the shape in current model is torch.Size([512, 512]).\n\tsize mismatch for enc_layers.0.attention.k_linear.weight: copying a param with shape torch.Size([768, 768]) from checkpoint, the shape in current model is torch.Size([512, 512]).\n\tsize mismatch for enc_layers.0.attention.v_linear.weight: copying a param with shape torch.Size([768, 768]) from checkpoint, the shape in current model is torch.Size([512, 512]).\n\tsize mismatch for enc_layers.0.attention.out_linear.weight: copying a param with shape torch.Size([768, 768]) from checkpoint, the shape in current model is torch.Size([512, 512]).\n\tsize mismatch for enc_layers.0.feedforward.fc1.weight: copying a param with shape torch.Size([3072, 768]) from checkpoint, the shape in current model is torch.Size([2048, 512]).\n\tsize mismatch for enc_layers.0.feedforward.fc2.weight: copying a param with shape torch.Size([768, 3072]) from checkpoint, the shape in current model is torch.Size([512, 2048]).\n\tsize mismatch for enc_layers.1.norm1.weight: copying a param with shape torch.Size([768]) from checkpoint, the shape in current model is torch.Size([512]).\n\tsize mismatch for enc_layers.1.norm1.bias: copying a param with shape torch.Size([768]) from checkpoint, the shape in current model is torch.Size([512]).\n\tsize mismatch for enc_layers.1.norm2.weight: copying a param with shape torch.Size([768]) from checkpoint, the shape in current model is torch.Size([512]).\n\tsize mismatch for enc_layers.1.norm2.bias: copying a param with shape torch.Size([768]) from checkpoint, the shape in current model is torch.Size([512]).\n\tsize mismatch for enc_layers.1.attention.q_linear.weight: copying a param with shape torch.Size([768, 768]) from checkpoint, the shape in current model is torch.Size([512, 512]).\n\tsize mismatch for enc_layers.1.attention.k_linear.weight: copying a param with shape torch.Size([768, 768]) from checkpoint, the shape in current model is torch.Size([512, 512]).\n\tsize mismatch for enc_layers.1.attention.v_linear.weight: copying a param with shape torch.Size([768, 768]) from checkpoint, the shape in current model is torch.Size([512, 512]).\n\tsize mismatch for enc_layers.1.attention.out_linear.weight: copying a param with shape torch.Size([768, 768]) from checkpoint, the shape in current model is torch.Size([512, 512]).\n\tsize mismatch for enc_layers.1.feedforward.fc1.weight: copying a param with shape torch.Size([3072, 768]) from checkpoint, the shape in current model is torch.Size([2048, 512]).\n\tsize mismatch for enc_layers.1.feedforward.fc2.weight: copying a param with shape torch.Size([768, 3072]) from checkpoint, the shape in current model is torch.Size([512, 2048]).\n\tsize mismatch for enc_layers.2.norm1.weight: copying a param with shape torch.Size([768]) from checkpoint, the shape in current model is torch.Size([512]).\n\tsize mismatch for enc_layers.2.norm1.bias: copying a param with shape torch.Size([768]) from checkpoint, the shape in current model is torch.Size([512]).\n\tsize mismatch for enc_layers.2.norm2.weight: copying a param with shape torch.Size([768]) from checkpoint, the shape in current model is torch.Size([512]).\n\tsize mismatch for enc_layers.2.norm2.bias: copying a param with shape torch.Size([768]) from checkpoint, the shape in current model is torch.Size([512]).\n\tsize mismatch for enc_layers.2.attention.q_linear.weight: copying a param with shape torch.Size([768, 768]) from checkpoint, the shape in current model is torch.Size([512, 512]).\n\tsize mismatch for enc_layers.2.attention.k_linear.weight: copying a param with shape torch.Size([768, 768]) from checkpoint, the shape in current model is torch.Size([512, 512]).\n\tsize mismatch for enc_layers.2.attention.v_linear.weight: copying a param with shape torch.Size([768, 768]) from checkpoint, the shape in current model is torch.Size([512, 512]).\n\tsize mismatch for enc_layers.2.attention.out_linear.weight: copying a param with shape torch.Size([768, 768]) from checkpoint, the shape in current model is torch.Size([512, 512]).\n\tsize mismatch for enc_layers.2.feedforward.fc1.weight: copying a param with shape torch.Size([3072, 768]) from checkpoint, the shape in current model is torch.Size([2048, 512]).\n\tsize mismatch for enc_layers.2.feedforward.fc2.weight: copying a param with shape torch.Size([768, 3072]) from checkpoint, the shape in current model is torch.Size([512, 2048]).\n\tsize mismatch for enc_layers.3.norm1.weight: copying a param with shape torch.Size([768]) from checkpoint, the shape in current model is torch.Size([512]).\n\tsize mismatch for enc_layers.3.norm1.bias: copying a param with shape torch.Size([768]) from checkpoint, the shape in current model is torch.Size([512]).\n\tsize mismatch for enc_layers.3.norm2.weight: copying a param with shape torch.Size([768]) from checkpoint, the shape in current model is torch.Size([512]).\n\tsize mismatch for enc_layers.3.norm2.bias: copying a param with shape torch.Size([768]) from checkpoint, the shape in current model is torch.Size([512]).\n\tsize mismatch for enc_layers.3.attention.q_linear.weight: copying a param with shape torch.Size([768, 768]) from checkpoint, the shape in current model is torch.Size([512, 512]).\n\tsize mismatch for enc_layers.3.attention.k_linear.weight: copying a param with shape torch.Size([768, 768]) from checkpoint, the shape in current model is torch.Size([512, 512]).\n\tsize mismatch for enc_layers.3.attention.v_linear.weight: copying a param with shape torch.Size([768, 768]) from checkpoint, the shape in current model is torch.Size([512, 512]).\n\tsize mismatch for enc_layers.3.attention.out_linear.weight: copying a param with shape torch.Size([768, 768]) from checkpoint, the shape in current model is torch.Size([512, 512]).\n\tsize mismatch for enc_layers.3.feedforward.fc1.weight: copying a param with shape torch.Size([3072, 768]) from checkpoint, the shape in current model is torch.Size([2048, 512]).\n\tsize mismatch for enc_layers.3.feedforward.fc2.weight: copying a param with shape torch.Size([768, 3072]) from checkpoint, the shape in current model is torch.Size([512, 2048]).\n\tsize mismatch for enc_layers.4.norm1.weight: copying a param with shape torch.Size([768]) from checkpoint, the shape in current model is torch.Size([512]).\n\tsize mismatch for enc_layers.4.norm1.bias: copying a param with shape torch.Size([768]) from checkpoint, the shape in current model is torch.Size([512]).\n\tsize mismatch for enc_layers.4.norm2.weight: copying a param with shape torch.Size([768]) from checkpoint, the shape in current model is torch.Size([512]).\n\tsize mismatch for enc_layers.4.norm2.bias: copying a param with shape torch.Size([768]) from checkpoint, the shape in current model is torch.Size([512]).\n\tsize mismatch for enc_layers.4.attention.q_linear.weight: copying a param with shape torch.Size([768, 768]) from checkpoint, the shape in current model is torch.Size([512, 512]).\n\tsize mismatch for enc_layers.4.attention.k_linear.weight: copying a param with shape torch.Size([768, 768]) from checkpoint, the shape in current model is torch.Size([512, 512]).\n\tsize mismatch for enc_layers.4.attention.v_linear.weight: copying a param with shape torch.Size([768, 768]) from checkpoint, the shape in current model is torch.Size([512, 512]).\n\tsize mismatch for enc_layers.4.attention.out_linear.weight: copying a param with shape torch.Size([768, 768]) from checkpoint, the shape in current model is torch.Size([512, 512]).\n\tsize mismatch for enc_layers.4.feedforward.fc1.weight: copying a param with shape torch.Size([3072, 768]) from checkpoint, the shape in current model is torch.Size([2048, 512]).\n\tsize mismatch for enc_layers.4.feedforward.fc2.weight: copying a param with shape torch.Size([768, 3072]) from checkpoint, the shape in current model is torch.Size([512, 2048]).\n\tsize mismatch for enc_layers.5.norm1.weight: copying a param with shape torch.Size([768]) from checkpoint, the shape in current model is torch.Size([512]).\n\tsize mismatch for enc_layers.5.norm1.bias: copying a param with shape torch.Size([768]) from checkpoint, the shape in current model is torch.Size([512]).\n\tsize mismatch for enc_layers.5.norm2.weight: copying a param with shape torch.Size([768]) from checkpoint, the shape in current model is torch.Size([512]).\n\tsize mismatch for enc_layers.5.norm2.bias: copying a param with shape torch.Size([768]) from checkpoint, the shape in current model is torch.Size([512]).\n\tsize mismatch for enc_layers.5.attention.q_linear.weight: copying a param with shape torch.Size([768, 768]) from checkpoint, the shape in current model is torch.Size([512, 512]).\n\tsize mismatch for enc_layers.5.attention.k_linear.weight: copying a param with shape torch.Size([768, 768]) from checkpoint, the shape in current model is torch.Size([512, 512]).\n\tsize mismatch for enc_layers.5.attention.v_linear.weight: copying a param with shape torch.Size([768, 768]) from checkpoint, the shape in current model is torch.Size([512, 512]).\n\tsize mismatch for enc_layers.5.attention.out_linear.weight: copying a param with shape torch.Size([768, 768]) from checkpoint, the shape in current model is torch.Size([512, 512]).\n\tsize mismatch for enc_layers.5.feedforward.fc1.weight: copying a param with shape torch.Size([3072, 768]) from checkpoint, the shape in current model is torch.Size([2048, 512]).\n\tsize mismatch for enc_layers.5.feedforward.fc2.weight: copying a param with shape torch.Size([768, 3072]) from checkpoint, the shape in current model is torch.Size([512, 2048]).\n\tsize mismatch for norm.weight: copying a param with shape torch.Size([768]) from checkpoint, the shape in current model is torch.Size([512]).\n\tsize mismatch for norm.bias: copying a param with shape torch.Size([768]) from checkpoint, the shape in current model is torch.Size([512]).",
     "output_type": "error",
     "traceback": [
      "\u001b[0;31m---------------------------------------------------------------------------\u001b[0m",
      "\u001b[0;31mRuntimeError\u001b[0m                              Traceback (most recent call last)",
      "Cell \u001b[0;32mIn[8], line 16\u001b[0m\n\u001b[1;32m     14\u001b[0m state_dict \u001b[38;5;241m=\u001b[39m torch\u001b[38;5;241m.\u001b[39mload(\u001b[38;5;124m'\u001b[39m\u001b[38;5;124m./checkpoints/model_weightsBPE6.pth\u001b[39m\u001b[38;5;124m'\u001b[39m)\n\u001b[1;32m     15\u001b[0m new_state_dict \u001b[38;5;241m=\u001b[39m {k\u001b[38;5;241m.\u001b[39mreplace(\u001b[38;5;124m'\u001b[39m\u001b[38;5;124m_orig_mod.\u001b[39m\u001b[38;5;124m'\u001b[39m, \u001b[38;5;124m'\u001b[39m\u001b[38;5;124m'\u001b[39m): v \u001b[38;5;28;01mfor\u001b[39;00m k, v \u001b[38;5;129;01min\u001b[39;00m state_dict\u001b[38;5;241m.\u001b[39mitems()}\n\u001b[0;32m---> 16\u001b[0m \u001b[43mfmodel\u001b[49m\u001b[38;5;241;43m.\u001b[39;49m\u001b[43mload_state_dict\u001b[49m\u001b[43m(\u001b[49m\u001b[43mnew_state_dict\u001b[49m\u001b[43m,\u001b[49m\u001b[43m \u001b[49m\u001b[43mstrict\u001b[49m\u001b[38;5;241;43m=\u001b[39;49m\u001b[38;5;28;43;01mFalse\u001b[39;49;00m\u001b[43m)\u001b[49m\n",
      "File \u001b[0;32m~/.conda/envs/DL/lib/python3.11/site-packages/torch/nn/modules/module.py:2584\u001b[0m, in \u001b[0;36mModule.load_state_dict\u001b[0;34m(self, state_dict, strict, assign)\u001b[0m\n\u001b[1;32m   2576\u001b[0m         error_msgs\u001b[38;5;241m.\u001b[39minsert(\n\u001b[1;32m   2577\u001b[0m             \u001b[38;5;241m0\u001b[39m,\n\u001b[1;32m   2578\u001b[0m             \u001b[38;5;124m\"\u001b[39m\u001b[38;5;124mMissing key(s) in state_dict: \u001b[39m\u001b[38;5;132;01m{}\u001b[39;00m\u001b[38;5;124m. \u001b[39m\u001b[38;5;124m\"\u001b[39m\u001b[38;5;241m.\u001b[39mformat(\n\u001b[1;32m   2579\u001b[0m                 \u001b[38;5;124m\"\u001b[39m\u001b[38;5;124m, \u001b[39m\u001b[38;5;124m\"\u001b[39m\u001b[38;5;241m.\u001b[39mjoin(\u001b[38;5;124mf\u001b[39m\u001b[38;5;124m'\u001b[39m\u001b[38;5;124m\"\u001b[39m\u001b[38;5;132;01m{\u001b[39;00mk\u001b[38;5;132;01m}\u001b[39;00m\u001b[38;5;124m\"\u001b[39m\u001b[38;5;124m'\u001b[39m \u001b[38;5;28;01mfor\u001b[39;00m k \u001b[38;5;129;01min\u001b[39;00m missing_keys)\n\u001b[1;32m   2580\u001b[0m             ),\n\u001b[1;32m   2581\u001b[0m         )\n\u001b[1;32m   2583\u001b[0m \u001b[38;5;28;01mif\u001b[39;00m \u001b[38;5;28mlen\u001b[39m(error_msgs) \u001b[38;5;241m>\u001b[39m \u001b[38;5;241m0\u001b[39m:\n\u001b[0;32m-> 2584\u001b[0m     \u001b[38;5;28;01mraise\u001b[39;00m \u001b[38;5;167;01mRuntimeError\u001b[39;00m(\n\u001b[1;32m   2585\u001b[0m         \u001b[38;5;124m\"\u001b[39m\u001b[38;5;124mError(s) in loading state_dict for \u001b[39m\u001b[38;5;132;01m{}\u001b[39;00m\u001b[38;5;124m:\u001b[39m\u001b[38;5;130;01m\\n\u001b[39;00m\u001b[38;5;130;01m\\t\u001b[39;00m\u001b[38;5;132;01m{}\u001b[39;00m\u001b[38;5;124m\"\u001b[39m\u001b[38;5;241m.\u001b[39mformat(\n\u001b[1;32m   2586\u001b[0m             \u001b[38;5;28mself\u001b[39m\u001b[38;5;241m.\u001b[39m\u001b[38;5;18m__class__\u001b[39m\u001b[38;5;241m.\u001b[39m\u001b[38;5;18m__name__\u001b[39m, \u001b[38;5;124m\"\u001b[39m\u001b[38;5;130;01m\\n\u001b[39;00m\u001b[38;5;130;01m\\t\u001b[39;00m\u001b[38;5;124m\"\u001b[39m\u001b[38;5;241m.\u001b[39mjoin(error_msgs)\n\u001b[1;32m   2587\u001b[0m         )\n\u001b[1;32m   2588\u001b[0m     )\n\u001b[1;32m   2589\u001b[0m \u001b[38;5;28;01mreturn\u001b[39;00m _IncompatibleKeys(missing_keys, unexpected_keys)\n",
      "\u001b[0;31mRuntimeError\u001b[0m: Error(s) in loading state_dict for model:\n\tsize mismatch for shared_emb.shared_weight: copying a param with shape torch.Size([32768, 768]) from checkpoint, the shape in current model is torch.Size([32768, 512]).\n\tsize mismatch for enc_layers.0.norm1.weight: copying a param with shape torch.Size([768]) from checkpoint, the shape in current model is torch.Size([512]).\n\tsize mismatch for enc_layers.0.norm1.bias: copying a param with shape torch.Size([768]) from checkpoint, the shape in current model is torch.Size([512]).\n\tsize mismatch for enc_layers.0.norm2.weight: copying a param with shape torch.Size([768]) from checkpoint, the shape in current model is torch.Size([512]).\n\tsize mismatch for enc_layers.0.norm2.bias: copying a param with shape torch.Size([768]) from checkpoint, the shape in current model is torch.Size([512]).\n\tsize mismatch for enc_layers.0.attention.q_linear.weight: copying a param with shape torch.Size([768, 768]) from checkpoint, the shape in current model is torch.Size([512, 512]).\n\tsize mismatch for enc_layers.0.attention.k_linear.weight: copying a param with shape torch.Size([768, 768]) from checkpoint, the shape in current model is torch.Size([512, 512]).\n\tsize mismatch for enc_layers.0.attention.v_linear.weight: copying a param with shape torch.Size([768, 768]) from checkpoint, the shape in current model is torch.Size([512, 512]).\n\tsize mismatch for enc_layers.0.attention.out_linear.weight: copying a param with shape torch.Size([768, 768]) from checkpoint, the shape in current model is torch.Size([512, 512]).\n\tsize mismatch for enc_layers.0.feedforward.fc1.weight: copying a param with shape torch.Size([3072, 768]) from checkpoint, the shape in current model is torch.Size([2048, 512]).\n\tsize mismatch for enc_layers.0.feedforward.fc2.weight: copying a param with shape torch.Size([768, 3072]) from checkpoint, the shape in current model is torch.Size([512, 2048]).\n\tsize mismatch for enc_layers.1.norm1.weight: copying a param with shape torch.Size([768]) from checkpoint, the shape in current model is torch.Size([512]).\n\tsize mismatch for enc_layers.1.norm1.bias: copying a param with shape torch.Size([768]) from checkpoint, the shape in current model is torch.Size([512]).\n\tsize mismatch for enc_layers.1.norm2.weight: copying a param with shape torch.Size([768]) from checkpoint, the shape in current model is torch.Size([512]).\n\tsize mismatch for enc_layers.1.norm2.bias: copying a param with shape torch.Size([768]) from checkpoint, the shape in current model is torch.Size([512]).\n\tsize mismatch for enc_layers.1.attention.q_linear.weight: copying a param with shape torch.Size([768, 768]) from checkpoint, the shape in current model is torch.Size([512, 512]).\n\tsize mismatch for enc_layers.1.attention.k_linear.weight: copying a param with shape torch.Size([768, 768]) from checkpoint, the shape in current model is torch.Size([512, 512]).\n\tsize mismatch for enc_layers.1.attention.v_linear.weight: copying a param with shape torch.Size([768, 768]) from checkpoint, the shape in current model is torch.Size([512, 512]).\n\tsize mismatch for enc_layers.1.attention.out_linear.weight: copying a param with shape torch.Size([768, 768]) from checkpoint, the shape in current model is torch.Size([512, 512]).\n\tsize mismatch for enc_layers.1.feedforward.fc1.weight: copying a param with shape torch.Size([3072, 768]) from checkpoint, the shape in current model is torch.Size([2048, 512]).\n\tsize mismatch for enc_layers.1.feedforward.fc2.weight: copying a param with shape torch.Size([768, 3072]) from checkpoint, the shape in current model is torch.Size([512, 2048]).\n\tsize mismatch for enc_layers.2.norm1.weight: copying a param with shape torch.Size([768]) from checkpoint, the shape in current model is torch.Size([512]).\n\tsize mismatch for enc_layers.2.norm1.bias: copying a param with shape torch.Size([768]) from checkpoint, the shape in current model is torch.Size([512]).\n\tsize mismatch for enc_layers.2.norm2.weight: copying a param with shape torch.Size([768]) from checkpoint, the shape in current model is torch.Size([512]).\n\tsize mismatch for enc_layers.2.norm2.bias: copying a param with shape torch.Size([768]) from checkpoint, the shape in current model is torch.Size([512]).\n\tsize mismatch for enc_layers.2.attention.q_linear.weight: copying a param with shape torch.Size([768, 768]) from checkpoint, the shape in current model is torch.Size([512, 512]).\n\tsize mismatch for enc_layers.2.attention.k_linear.weight: copying a param with shape torch.Size([768, 768]) from checkpoint, the shape in current model is torch.Size([512, 512]).\n\tsize mismatch for enc_layers.2.attention.v_linear.weight: copying a param with shape torch.Size([768, 768]) from checkpoint, the shape in current model is torch.Size([512, 512]).\n\tsize mismatch for enc_layers.2.attention.out_linear.weight: copying a param with shape torch.Size([768, 768]) from checkpoint, the shape in current model is torch.Size([512, 512]).\n\tsize mismatch for enc_layers.2.feedforward.fc1.weight: copying a param with shape torch.Size([3072, 768]) from checkpoint, the shape in current model is torch.Size([2048, 512]).\n\tsize mismatch for enc_layers.2.feedforward.fc2.weight: copying a param with shape torch.Size([768, 3072]) from checkpoint, the shape in current model is torch.Size([512, 2048]).\n\tsize mismatch for enc_layers.3.norm1.weight: copying a param with shape torch.Size([768]) from checkpoint, the shape in current model is torch.Size([512]).\n\tsize mismatch for enc_layers.3.norm1.bias: copying a param with shape torch.Size([768]) from checkpoint, the shape in current model is torch.Size([512]).\n\tsize mismatch for enc_layers.3.norm2.weight: copying a param with shape torch.Size([768]) from checkpoint, the shape in current model is torch.Size([512]).\n\tsize mismatch for enc_layers.3.norm2.bias: copying a param with shape torch.Size([768]) from checkpoint, the shape in current model is torch.Size([512]).\n\tsize mismatch for enc_layers.3.attention.q_linear.weight: copying a param with shape torch.Size([768, 768]) from checkpoint, the shape in current model is torch.Size([512, 512]).\n\tsize mismatch for enc_layers.3.attention.k_linear.weight: copying a param with shape torch.Size([768, 768]) from checkpoint, the shape in current model is torch.Size([512, 512]).\n\tsize mismatch for enc_layers.3.attention.v_linear.weight: copying a param with shape torch.Size([768, 768]) from checkpoint, the shape in current model is torch.Size([512, 512]).\n\tsize mismatch for enc_layers.3.attention.out_linear.weight: copying a param with shape torch.Size([768, 768]) from checkpoint, the shape in current model is torch.Size([512, 512]).\n\tsize mismatch for enc_layers.3.feedforward.fc1.weight: copying a param with shape torch.Size([3072, 768]) from checkpoint, the shape in current model is torch.Size([2048, 512]).\n\tsize mismatch for enc_layers.3.feedforward.fc2.weight: copying a param with shape torch.Size([768, 3072]) from checkpoint, the shape in current model is torch.Size([512, 2048]).\n\tsize mismatch for enc_layers.4.norm1.weight: copying a param with shape torch.Size([768]) from checkpoint, the shape in current model is torch.Size([512]).\n\tsize mismatch for enc_layers.4.norm1.bias: copying a param with shape torch.Size([768]) from checkpoint, the shape in current model is torch.Size([512]).\n\tsize mismatch for enc_layers.4.norm2.weight: copying a param with shape torch.Size([768]) from checkpoint, the shape in current model is torch.Size([512]).\n\tsize mismatch for enc_layers.4.norm2.bias: copying a param with shape torch.Size([768]) from checkpoint, the shape in current model is torch.Size([512]).\n\tsize mismatch for enc_layers.4.attention.q_linear.weight: copying a param with shape torch.Size([768, 768]) from checkpoint, the shape in current model is torch.Size([512, 512]).\n\tsize mismatch for enc_layers.4.attention.k_linear.weight: copying a param with shape torch.Size([768, 768]) from checkpoint, the shape in current model is torch.Size([512, 512]).\n\tsize mismatch for enc_layers.4.attention.v_linear.weight: copying a param with shape torch.Size([768, 768]) from checkpoint, the shape in current model is torch.Size([512, 512]).\n\tsize mismatch for enc_layers.4.attention.out_linear.weight: copying a param with shape torch.Size([768, 768]) from checkpoint, the shape in current model is torch.Size([512, 512]).\n\tsize mismatch for enc_layers.4.feedforward.fc1.weight: copying a param with shape torch.Size([3072, 768]) from checkpoint, the shape in current model is torch.Size([2048, 512]).\n\tsize mismatch for enc_layers.4.feedforward.fc2.weight: copying a param with shape torch.Size([768, 3072]) from checkpoint, the shape in current model is torch.Size([512, 2048]).\n\tsize mismatch for enc_layers.5.norm1.weight: copying a param with shape torch.Size([768]) from checkpoint, the shape in current model is torch.Size([512]).\n\tsize mismatch for enc_layers.5.norm1.bias: copying a param with shape torch.Size([768]) from checkpoint, the shape in current model is torch.Size([512]).\n\tsize mismatch for enc_layers.5.norm2.weight: copying a param with shape torch.Size([768]) from checkpoint, the shape in current model is torch.Size([512]).\n\tsize mismatch for enc_layers.5.norm2.bias: copying a param with shape torch.Size([768]) from checkpoint, the shape in current model is torch.Size([512]).\n\tsize mismatch for enc_layers.5.attention.q_linear.weight: copying a param with shape torch.Size([768, 768]) from checkpoint, the shape in current model is torch.Size([512, 512]).\n\tsize mismatch for enc_layers.5.attention.k_linear.weight: copying a param with shape torch.Size([768, 768]) from checkpoint, the shape in current model is torch.Size([512, 512]).\n\tsize mismatch for enc_layers.5.attention.v_linear.weight: copying a param with shape torch.Size([768, 768]) from checkpoint, the shape in current model is torch.Size([512, 512]).\n\tsize mismatch for enc_layers.5.attention.out_linear.weight: copying a param with shape torch.Size([768, 768]) from checkpoint, the shape in current model is torch.Size([512, 512]).\n\tsize mismatch for enc_layers.5.feedforward.fc1.weight: copying a param with shape torch.Size([3072, 768]) from checkpoint, the shape in current model is torch.Size([2048, 512]).\n\tsize mismatch for enc_layers.5.feedforward.fc2.weight: copying a param with shape torch.Size([768, 3072]) from checkpoint, the shape in current model is torch.Size([512, 2048]).\n\tsize mismatch for norm.weight: copying a param with shape torch.Size([768]) from checkpoint, the shape in current model is torch.Size([512]).\n\tsize mismatch for norm.bias: copying a param with shape torch.Size([768]) from checkpoint, the shape in current model is torch.Size([512])."
     ]
    }
   ],
   "source": [
    "# mmodel = MathM(modelArguments).to('cuda')\n",
    "def initialize_weights(m):\n",
    "    if isinstance(m, torch.nn.Linear):\n",
    "        nn.init.normal_(m.weight, std=0.1)\n",
    "        if m.bias is not None:\n",
    "            nn.init.zeros_(m.bias)\n",
    "    elif isinstance(m, torch.nn.Embedding):\n",
    "        nn.init.normal_(m.weight, std=0.1)\n",
    "\n",
    "# Apply the function to the model\n",
    "fmodel.apply(initialize_weights)\n",
    "\n",
    "\n",
    "# state_dict = torch.load('./checkpoints/model_weightsBPE6.pth')\n",
    "# new_state_dict = {k.replace('_orig_mod.', ''): v for k, v in state_dict.items()}\n",
    "# fmodel.load_state_dict(new_state_dict, strict=False)"
   ]
  },
  {
   "cell_type": "code",
   "execution_count": null,
   "metadata": {},
   "outputs": [],
   "source": [
    "fmodel = fmodel.to('cuda')\n",
    "# fmodel = torch.compile(fmodel)\n",
    "# fmodel = fmodel"
   ]
  },
  {
   "cell_type": "code",
   "execution_count": null,
   "metadata": {},
   "outputs": [
    {
     "data": {
      "text/plain": [
       "41960448"
      ]
     },
     "execution_count": 10,
     "metadata": {},
     "output_type": "execute_result"
    }
   ],
   "source": [
    "count_parameters(fmodel)"
   ]
  },
  {
   "cell_type": "code",
   "execution_count": null,
   "metadata": {},
   "outputs": [
    {
     "name": "stderr",
     "output_type": "stream",
     "text": [
      "/home/frosthead/.conda/envs/DL/lib/python3.11/site-packages/tqdm/auto.py:21: TqdmWarning: IProgress not found. Please update jupyter and ipywidgets. See https://ipywidgets.readthedocs.io/en/stable/user_install.html\n",
      "  from .autonotebook import tqdm as notebook_tqdm\n"
     ]
    }
   ],
   "source": [
    "from datasets import load_dataset\n",
    "from torch.utils.data import DataLoader, IterableDataset\n",
    "from transformers import PreTrainedTokenizerFast\n",
    "import pickle\n",
    "import os\n",
    "import json\n",
    "\n",
    "# dataset = load_dataset(\"damerajee/english-to-hindi-l\", split=\"train\", streaming=False)\n",
    "# dataset = load_dataset(\"TIGER-Lab/MATH-plus\", split=\"train\", streaming=False)\n",
    "dataset = load_dataset(\"HuggingFaceFW/fineweb\", name=\"CC-MAIN-2024-10\", split=\"train\", streaming=True)\n"
   ]
  },
  {
   "cell_type": "code",
   "execution_count": null,
   "metadata": {},
   "outputs": [],
   "source": [
    "tokenizer = PreTrainedTokenizerFast(tokenizer_file=\"large_tokenizer.json\")\n"
   ]
  },
  {
   "cell_type": "code",
   "execution_count": null,
   "metadata": {},
   "outputs": [],
   "source": [
    "def tokenize(text, second = False):\n",
    "    ids = tokenizer.encode(text, add_special_tokens=True)\n",
    "    ids1 = [1] + ids + [2] \n",
    "    ids1 = torch.tensor(ids1, dtype=torch.int16)\n",
    "    \n",
    "    # Pad or truncate the sequence to tholtae max_seq_length\n",
    "    if ids1.size(0) < modelArguments.max_seq_len:\n",
    "        padding_length = modelArguments.max_seq_len - ids1.size(0)\n",
    "        ids1 = torch.cat([ids1, torch.zeros(padding_length, dtype=torch.int16)])\n",
    "        \n",
    "    elif ids1.size(0) >= modelArguments.max_seq_len:\n",
    "        ids1 = ids1[:modelArguments.max_seq_len]\n",
    "        ids1[-1] = 2\n",
    "    return ids1"
   ]
  },
  {
   "cell_type": "code",
   "execution_count": null,
   "metadata": {},
   "outputs": [],
   "source": [
    "class TokenizedIterableDataset(IterableDataset):\n",
    "    def __init__(self, dataset, args,state_file='dataset_state.pkl'):\n",
    "        self.dataset = dataset\n",
    "        self.state_file = state_file\n",
    "        self.buffer = \"\"\n",
    "        self.current_index = 0\n",
    "    #   -  self.load_state()\n",
    "        self.args = args\n",
    "    #     # self.norm = torch.nn.BatchNorm1d(args.enforce_features, affine=False)\n",
    "    #     # self.norm2 = torch.nn.BatchNorm1d(args.enforce_features, affine=False)\n",
    "    #     self.embd = nn.Embedding(32768, 512)\n",
    "\n",
    "\n",
    "    def __iter__(self):\n",
    "        index = 0\n",
    "        buffer = None\n",
    "        for example in self.dataset:\n",
    "            # print(\"len of exp :\",self.dataset)\n",
    "            if index < self.current_index:\n",
    "                index += 1\n",
    "                continue\n",
    "\n",
    "            # instruction = example['instruction']\n",
    "            # output = example['output']\n",
    "\n",
    "            # out = instruction + \" \" + output\n",
    "            # out = tokenize(out)\n",
    "            # yield out\n",
    "            # self.current_index = index\n",
    "            # index += 1\n",
    "\n",
    "\n",
    "            text = example['text']\n",
    "            lines = text.split('.')\n",
    "            # print(\"# lines :\",len(lines))\n",
    "            for line in lines:\n",
    "                # if (buffer != None):\n",
    "                #     yield buffer\n",
    "                self.buffer += line \n",
    "                if len(self.buffer)  >= modelArguments.max_seq_len*5:\n",
    "                    tokenized_input = tokenize(self.buffer)\n",
    "\n",
    "                    \n",
    "                    yield tokenized_input\n",
    "                    self.buffer = line \n",
    "\n",
    "\n",
    "            self.current_index = index\n",
    "            # self.save_state()\n",
    "            index += 1\n",
    "\n",
    "        # Tokenize the remaining buffer if it's not empty\n",
    "        if len(self.buffer) > 0:\n",
    "            tokenized_input = tokenize(self.buffer)\n",
    "            if tokenized_input is not None:\n",
    "                yield tokenized_input\n",
    "\n",
    "\n",
    "\n",
    "\n",
    "    def save_state(self):\n",
    "        state = {'buffer': self.buffer, 'current_index': self.current_index}\n",
    "        with open(self.state_file, 'wb') as f:\n",
    "            pickle.dump(state, f)\n",
    "\n",
    "    def load_state(self):\n",
    "        if os.path.exists(self.state_file):\n",
    "            with open(self.state_file, 'rb') as f:\n",
    "                state = pickle.load(f)\n",
    "                self.buffer = state.get('buffer', \"\")\n",
    "                self.current_index = state.get('current_index', 0)\n",
    "\n",
    "    def reset(self):\n",
    "        self.buffer = \"\"\n",
    "        self.current_index = 0\n",
    "        # self.save_state()\n",
    "\n",
    "def collate_fn(batch): # Maximum number of attempts to create a valid batch\n",
    "    \n",
    "        # for attempt in range(max_attempts):\n",
    "        inputs = torch.stack([item for item in batch])\n",
    "\n",
    "        \n",
    "            # # Check for NaN values\n",
    "            # if torch.isnan(scaled_outputs2).any() or torch.isnan(scaled_outputs3).any():\n",
    "            #     print(f\"NaN values detected in attempt {attempt + 1}. Remaking batch...\")\n",
    "            #     # If this is the last attempt, raise an exception\n",
    "            #     if attempt == max_attempts - 1:\n",
    "            #         raise ValueError(\"Failed to create a valid batch after maximum attempts\")\n",
    "            #     # Otherwise, continue to the next iteration to try again\n",
    "            #     continue\n",
    "            \n",
    "            # If no NaN values, return the batch\n",
    "        return inputs\n",
    "# Create an instance of the IterableDataset\n",
    "train_dataset = TokenizedIterableDataset(dataset,modelArguments)\n",
    "\n",
    "# Create a DataLoader\n",
    "train_dataloader = DataLoader(train_dataset, batch_size=modelArguments.max_batch_size, collate_fn=collate_fn)\n"
   ]
  },
  {
   "cell_type": "code",
   "execution_count": null,
   "metadata": {},
   "outputs": [
    {
     "name": "stdout",
     "output_type": "stream",
     "text": [
      "torch.Size([4, 384])\n"
     ]
    }
   ],
   "source": [
    "var = 0\n",
    "for k, a in enumerate(train_dataloader):\n",
    "    print(a.shape)\n",
    "    break\n",
    "    \n",
    "\n",
    "# print(var)\n",
    "\n"
   ]
  },
  {
   "cell_type": "code",
   "execution_count": null,
   "metadata": {},
   "outputs": [],
   "source": []
  },
  {
   "cell_type": "code",
   "execution_count": null,
   "metadata": {},
   "outputs": [],
   "source": [
    "def id_to_token(x):\n",
    "    s = ''\n",
    "    for i in x[0]:\n",
    "        # j = torch.argmax(i)\n",
    "        s += tokenizer.decode(i)\n",
    "\n",
    "    return s\n",
    "\n",
    "def id_to_token_M(x):\n",
    "    s = ''\n",
    "    for i in x[0]:\n",
    "        j = torch.argmax(i)\n",
    "        s += tokenizer.decode(j)\n",
    "\n",
    "    return s"
   ]
  },
  {
   "cell_type": "code",
   "execution_count": null,
   "metadata": {},
   "outputs": [],
   "source": [
    "class TransformerLRScheduler(torch.optim.lr_scheduler.LambdaLR):\n",
    "    def __init__(self, optimizer, d_model, warmup_steps):\n",
    "        self.d_model = d_model\n",
    "        self.warmup_steps = warmup_steps\n",
    "        super().__init__(optimizer, self.lr_lambda)\n",
    "\n",
    "    def lr_lambda(self, step):\n",
    "        step = max(step, 1)  # To avoid division by zero\n",
    "        return (self.d_model ** -0.5) * min(step ** -0.5, step * self.warmup_steps ** -1.5)\n"
   ]
  },
  {
   "cell_type": "code",
   "execution_count": null,
   "metadata": {},
   "outputs": [],
   "source": [
    "history = []\n",
    "# history = torch.load('checkpoints/history1.pth')\n",
    "rloss = 0"
   ]
  },
  {
   "cell_type": "code",
   "execution_count": null,
   "metadata": {},
   "outputs": [],
   "source": [
    "loss_fn = nn.CrossEntropyLoss(ignore_index=0)\n",
    "loss_fn2 = nn.MSELoss()\n",
    "loss_fn3 = nn.MSELoss()\n",
    "loss_fn4 = nn.MSELoss()\n",
    "optimizer = torch.optim.AdamW(fmodel.parameters(), betas=(0.9, 0.99), lr = 1e-4)\n",
    "optimizer.load_state_dict(torch.load('checkpoints/optimizer1.pth'))\n",
    "optimizer.zero_grad()\n",
    "torch.cuda.empty_cache()\n",
    "# schedular = TransformerLRScheduler(optimizer, 512, 500)"
   ]
  },
  {
   "cell_type": "code",
   "execution_count": null,
   "metadata": {},
   "outputs": [],
   "source": [
    "import matplotlib.pyplot as plt\n",
    "import numpy as np\n",
    "import torch\n",
    "\n",
    "def plot_loss_with_trend(loss_array, window_size=25):\n",
    "    \"\"\"\n",
    "    Plots the loss function with an additional line to show the trend.\n",
    "\n",
    "    Args:\n",
    "    loss_array (list or np.array): Array of loss values.\n",
    "    window_size (int): The window size for calculating the moving average trend line.\n",
    "    \"\"\"\n",
    "    # Convert loss_array to a numpy array if it's not already\n",
    "    loss_array = np.array(loss_array)\n",
    "\n",
    "    # Calculate the moving average for the trend line\n",
    "    trend_line = np.convolve(loss_array, np.ones(window_size)/window_size, mode='valid')\n",
    "    trend = (trend_line[0]-trend_line[-1])/trend_line.size\n",
    "    trend2 = (trend_line[-1]-trend_line[-window_size-1])/window_size if len(trend_line) > window_size else 0\n",
    "    \n",
    "\n",
    "    # Plot the loss function\n",
    "    print(\"overall :\",trend)\n",
    "    print(\"last window :\",trend2)\n",
    "\n",
    "    plt.figure(figsize=(10, 6))\n",
    "    plt.plot(loss_array, label='Loss', color='blue', alpha=0.6)\n",
    "    plt.plot(range(window_size - 1, len(loss_array)), trend_line, label='Trend', color='red', linestyle='--', linewidth=2)\n",
    "\n",
    "    # Adding labels and title\n",
    "    plt.xlabel('Epochs')\n",
    "    plt.ylabel('Loss')\n",
    "    plt.yscale('log')\n",
    "    plt.title('Loss Function with Trend Line')\n",
    "    plt.legend()\n",
    "    plt.grid(True)\n",
    "    plt.savefig('current_loss.jpg')\n",
    "    plt.show()"
   ]
  },
  {
   "cell_type": "code",
   "execution_count": null,
   "metadata": {},
   "outputs": [],
   "source": [
    "optimizer.zero_grad()\n",
    "torch.cuda.empty_cache()\n",
    "from IPython.display import clear_output\n",
    "rloss = 0\n"
   ]
  },
  {
   "cell_type": "code",
   "execution_count": null,
   "metadata": {},
   "outputs": [],
   "source": []
  },
  {
   "cell_type": "code",
   "execution_count": null,
   "metadata": {},
   "outputs": [],
   "source": [
    "  # Should return True"
   ]
  },
  {
   "cell_type": "code",
   "execution_count": null,
   "metadata": {},
   "outputs": [
    {
     "name": "stdout",
     "output_type": "stream",
     "text": [
      "------  Loss: 0.4209986925125122 ------ \n",
      "\n",
      "out:  [SOS] Indeed, her debut cookbook, Chloe’s Kitchen: 125 Easy, Delicious Recipes for Making the Food You Love the Vegan Way, earned VegNews’ 2012 Cookbook of the Year Award\n",
      "Her latest book, Chloe’s Vegan Desserts, continues to reinforce why this young Californian chef has found so much success Not only is the book filled with gorgeous photographs of moist, decadent desserts, it includes everything from classic birthday cupcakes to mud pies, cobblers, mojito cookies, chocolate babka, and everything in between (more than 100 recipes total)—all “veganized” There is also a section dedicated to baking basics, including recipes for coconut whipped cream, pie crust, pastry crème, and more\n",
      "The recipes are all, frankly, quite ridiculously easy to follow, making this cookbook awesome for beginners and efficient veteran bakers alike Besides the fact that one is spared from the messiness of baking with eggs and dealing with dairy and other potential allergens, Chloe’s desserts do not contain many of the vegan baking substitutes—applesauce, egg replacer powder, tofu, etc—that many people assume are necessary for creating vegan desserts that rival their non-vegan counterparts To accommodate readers who are gluten intolerant or want to cut back on wheat products, Chloe also includes special ingredient notes on how to substitute wheat flours for gluten-free flours and xanthan gum in her creations\n",
      "I’ve been fortunate enough to try out many of the recipes in the cookbook already, and they are a hit Every single person has raved about the cupcakes, muffins, cookies, cobblers, and cakes that I’ve created thanks to Chloe! That’s a pretty impressive feat, seeing as my taste-testers hail from different nationalities and included quite a few picky non-[EOS] \n",
      "\n",
      "out:   Indeed, her debut alley, rebuilt’s Kitchen: 125 Easy, Delames Recipes for Making the Food You Love the Vegan Way, earned VegProduct’ 2012 Cookbook of the Year Award\n",
      "Her latest book, sings’s Vegan Desserts, continues to minim why this young Calphthalian chef has found so much success Not only is the book filled with everyday photographs of moist, decadent shoes, it includes everything from classic birthday skillet to mud details, hormblers, mojito cookies, chocolate sprinkka, and everything in between (more than 100 recipes total)—all “veganized” There is also a section dedicated to bakingAdd, including recipes for coconut Us cream, pie crust, ATM crème, and more\n",
      "The15 are all, laughing, quite structulously easy to follow, making this alley awesome for beginners and efficient veteran bakers lists Besides the fact that one is spared from the messiness of baking with eggs and dealing with dairy and other potential tanens, Travis’s calories do not discovered many of the vegan baking substitutes— guideauce, egg replthal powder, to distinguish, etc—that many people assume are necessary for creating vegan potatoes that rival their non-vegan counterparts To accommodate readers who are gluten intolerant or want to cut back on wheat products, material also includes special ingredient notes on how to substitute wheat flours for Harry-free flours and xttan gum in her creations\n",
      "I’ve been crucial enough to try out many of the recipes in the paradox already, and they are a hit Every single person has raved about the hatch, intersections, cookies, lonblers, and cakes that I’ve created thanks toogenesis! That’s a pretty impressive feat, seeing as my taste-tensing Mong from different nationalities and included quite a few picky non-[EOS][EOS] \n",
      "\n",
      "\n",
      "\n",
      "-----Steps : 12200, BatchIDX : 97599, Loss: 0.420999, #tokens : 32 ,timeT : 376.9352436065674ms ----- \n",
      "-----Steps : 12201, BatchIDX : 97607, Loss: 0.408770, #tokens : 32 ,timeT : 352.02622413635254ms ----- \n",
      "-----Steps : 12202, BatchIDX : 97615, Loss: 0.381747, #tokens : 32 ,timeT : 351.9129753112793ms ----- \n"
     ]
    },
    {
     "ename": "KeyboardInterrupt",
     "evalue": "",
     "output_type": "error",
     "traceback": [
      "\u001b[0;31m---------------------------------------------------------------------------\u001b[0m",
      "\u001b[0;31mKeyboardInterrupt\u001b[0m                         Traceback (most recent call last)",
      "Cell \u001b[0;32mIn[23], line 36\u001b[0m\n\u001b[1;32m     29\u001b[0m \u001b[38;5;66;03m# loss = loss_fn3(se,d)\u001b[39;00m\n\u001b[1;32m     30\u001b[0m loss \u001b[38;5;241m=\u001b[39m loss \u001b[38;5;241m/\u001b[39m accumulation_steps\n\u001b[0;32m---> 36\u001b[0m rloss \u001b[38;5;241m+\u001b[39m\u001b[38;5;241m=\u001b[39m \u001b[43mloss\u001b[49m\u001b[38;5;241;43m.\u001b[39;49m\u001b[43mitem\u001b[49m\u001b[43m(\u001b[49m\u001b[43m)\u001b[49m\n\u001b[1;32m     37\u001b[0m \u001b[38;5;66;03m# scaler.scale(loss).backward()\u001b[39;00m\n\u001b[1;32m     38\u001b[0m loss\u001b[38;5;241m.\u001b[39mbackward()\n",
      "\u001b[0;31mKeyboardInterrupt\u001b[0m: "
     ]
    }
   ],
   "source": [
    "open = False\n",
    "for epoch in range(4000):\n",
    "    # data_loader = tqdm(train_dataloader, unit=\"batch\")\n",
    "    global_step = 0\n",
    "    train_dataset.reset()\n",
    "    sloss = 0\n",
    "    train_dataloader = DataLoader(train_dataset, batch_size=modelArguments.max_batch_size, collate_fn=collate_fn)\n",
    "    for batch_idx, a in enumerate(train_dataloader):\n",
    "\n",
    "        a = a.to(torch.long).to('cuda')\n",
    "        # c = c.to(torch.long).to('cuda')\n",
    "        # b = b.to(torch.float).to('cuda')\n",
    "        # d = d.to(torch.float).to('cuda')\n",
    "\n",
    "        # print(a.shape, c.shape, d.shape)\n",
    "        # e = e.to(torch.float).to('cuda')\n",
    "\n",
    "\n",
    "        max_no_tokens = 2**5\n",
    "        # accumulation_steps2 = 1\n",
    "        accumulation_steps = max_no_tokens//(modelArguments.max_batch_size)\n",
    "\n",
    "        # print(accumulation_steps)\n",
    "        \n",
    "\n",
    "        t0 = time.time()\n",
    "        out = fmodel(a)\n",
    "        loss = loss_fn(out[:, :modelArguments.max_seq_len-1, :].contiguous().view(-1, out.size(-1)), a[:, 1:modelArguments.max_seq_len].contiguous().view(-1)) #+ loss_fn3(se, d)\n",
    "        # loss = loss_fn3(se,d)\n",
    "        loss = loss / accumulation_steps\n",
    "\n",
    "\n",
    "\n",
    "\n",
    "\n",
    "        rloss += loss.item()\n",
    "        # scaler.scale(loss).backward()\n",
    "        loss.backward()\n",
    "\n",
    "\n",
    "\n",
    "        # if(batch_idx+1) % (2**10) and len(history) > 50 == 0:\n",
    "        #     print(\"Images Saved\")\n",
    "        #     plot_loss_with_trend(history[1:], window_size=25)\n",
    "\n",
    "            \n",
    "        # if loss_fn4(se2,e) >= 10000:\n",
    "        #     print(\"out: \", id_to_token(a),\"\\n\")\n",
    "        #     print(\"Output shape:\", e[0], \"\\n\")\n",
    "        #     print(\"Target shape:\", se2[0], \"\\n\")\n",
    "        #     print(loss.item(), loss_fn4(se2,e),loss_fn(out[:, :modelArguments.max_seq_len-1, :].contiguous().view(-1, out.size(-1)), c[:, 1:modelArguments.max_seq_len].contiguous().view(-1)) , loss_fn3(se, d), \"\\n\")\n",
    "        \n",
    "        if (batch_idx+1) % ((max_no_tokens / modelArguments.max_batch_size)*8) == 0 or math.isnan(loss):\n",
    "\n",
    "            clear_output()\n",
    "            print(\"-\"*6,f\" Loss: {rloss}\", \"-\"*6,\"\\n\")\n",
    "            print(\"out: \", id_to_token(a),\"\\n\")\n",
    "\n",
    "            print(\"out: \", id_to_token_M(out),\"\\n\")\n",
    "\n",
    "\n",
    "            print('\\n')\n",
    "\n",
    "            \n",
    "        \n",
    "        if (batch_idx+1) % accumulation_steps == 0:\n",
    "            # scaler.unscale_(optimizer)\n",
    "            torch.nn.utils.clip_grad_norm_(fmodel.parameters(), max_norm=1)\n",
    "            # scaler.step(optimizer)\n",
    "            optimizer.step()\n",
    "            # schedular.step()\n",
    "            # scaler.update()\n",
    "            global_step += 1\n",
    "            optimizer.zero_grad()\n",
    "\n",
    "            history.append(rloss)\n",
    "            \n",
    "            torch.cuda.synchronize()\n",
    "            t1 = time.time()\n",
    "\n",
    "            dt = (t1-t0)*1000 \n",
    "        # if (batch_idx % 10 == 0):       \n",
    "            # print(f\"-----Steps : {global_step}, Loss: {rloss:8f}, LR: {schedular.get_last_lr()}, #tokens : {max_no_tokens} ,timeT : {dt}ms ----- \")\n",
    "            print(f\"-----Steps : {global_step}, BatchIDX : {batch_idx}, Loss: {rloss:8f}, #tokens : {max_no_tokens} ,timeT : {dt}ms ----- \")\n",
    "    \n",
    "            rloss = 0\n",
    "        torch.cuda.empty_cache()\n",
    "\n",
    "    print(f\"Epoch {epoch+1} completed, {batch_idx}\")   \n",
    "\n",
    "\n",
    "# Close the writer after training\n",
    "# writer.close()\n",
    "\n",
    "# Remove hooks after training is done\n",
    "# for hook in hooks:\n",
    "\n",
    "#     hook.remove()\n"
   ]
  },
  {
   "cell_type": "markdown",
   "metadata": {},
   "source": []
  },
  {
   "cell_type": "code",
   "execution_count": null,
   "metadata": {},
   "outputs": [
    {
     "data": {
      "text/plain": [
       "(tensor([[4.6746e+00, 3.5948e+00, 3.0292e+00, 2.2992e+00, 1.9814e+00, 1.6484e+00,\n",
       "          1.1950e+00, 1.4389e+00, 1.0268e+00, 9.2477e-01, 8.2266e-01, 7.3887e-01,\n",
       "          3.5669e-01, 6.2320e-01, 5.9211e-01, 3.3420e-01, 8.9923e-02, 9.2636e-02,\n",
       "          4.3759e-01, 6.2237e-02, 6.7157e-01, 3.7226e-01, 1.7359e-01, 5.0016e-01,\n",
       "          1.0000e+01, 1.3141e-01, 3.0200e-01, 2.4225e-01, 6.4371e-02, 3.6889e-01,\n",
       "          1.9881e-01, 6.5745e-01, 1.1970e-01, 1.0317e-01, 3.0235e-01, 4.6172e-01,\n",
       "          3.3271e-01, 4.9603e-01, 1.1059e-01, 1.1381e-01, 1.8963e-01, 1.3152e-01,\n",
       "          2.2227e-01, 1.2889e-01, 1.2541e-01, 4.6300e-01, 2.9229e-01, 1.3701e-01,\n",
       "          6.2920e-02, 1.1754e-01, 0.0000e+00, 2.2004e-01, 1.8300e-05, 1.1929e-01,\n",
       "          3.9607e-01, 1.5108e-01, 3.2215e-01, 3.9339e-01, 2.4935e-01, 2.3376e-02,\n",
       "          1.9834e-01, 9.5308e-02, 3.1176e-01, 1.7991e-01]], device='cuda:0',\n",
       "        grad_fn=<SelectBackward0>),\n",
       " tensor([[10.0000,  3.4000, 10.0000,  3.4000,  0.4000,  0.4000,  3.4000,  6.8000,\n",
       "          10.0000,  6.8000,  3.2000,  3.2000,  0.0000,  0.0000,  0.0000,  0.0000,\n",
       "           0.0000,  0.0000,  0.0000,  0.0000,  0.0000,  0.0000,  0.0000,  0.0000,\n",
       "           0.0000,  0.0000,  0.0000,  0.0000,  0.0000,  0.0000,  0.0000,  0.0000,\n",
       "           0.0000,  0.0000,  0.0000,  0.0000,  0.0000,  0.0000,  0.0000,  0.0000,\n",
       "           0.0000,  0.0000,  0.0000,  0.0000,  0.0000,  0.0000,  0.0000,  0.0000,\n",
       "           0.0000,  0.0000,  0.0000,  0.0000,  0.0000,  0.0000,  0.0000,  0.0000,\n",
       "           0.0000,  0.0000,  0.0000,  0.0000,  0.0000,  0.0000,  0.0000,  0.0000]],\n",
       "        device='cuda:0'))"
      ]
     },
     "execution_count": 41,
     "metadata": {},
     "output_type": "execute_result"
    }
   ],
   "source": [
    "se[0], e[0]"
   ]
  },
  {
   "cell_type": "code",
   "execution_count": null,
   "metadata": {},
   "outputs": [],
   "source": [
    "torch.save(fmodel.state_dict(), 'checkpoints/model_weightsBPE6.pth')\n",
    "torch.save(optimizer.state_dict(), 'checkpoints/optimizer1.pth')\n",
    "torch.save(history, 'checkpoints/history1.pth')             "
   ]
  },
  {
   "cell_type": "code",
   "execution_count": null,
   "metadata": {},
   "outputs": [
    {
     "name": "stdout",
     "output_type": "stream",
     "text": [
      "overall : 0.0007826378669897016\n",
      "last window : -0.0007341710105538413\n"
     ]
    },
    {
     "data": {
      "image/png": "[encoded data removed]",
      "text/plain": [
       "<Figure size 1000x600 with 1 Axes>"
      ]
     },
     "metadata": {},
     "output_type": "display_data"
    }
   ],
   "source": [
    "# plt.plot(history[3920:])\n",
    "# plt.yscale('log')\n",
    "# plt.show()\n",
    "# history = torch.load('checkpoints/history1.pth')\n",
    "plot_loss_with_trend(history[8:], window_size=10)"
   ]
  },
  {
   "cell_type": "markdown",
   "metadata": {},
   "source": []
  },
  {
   "cell_type": "markdown",
   "metadata": {},
   "source": []
  },
  {
   "cell_type": "markdown",
   "metadata": {},
   "source": []
  }
 ],
 "metadata": {
  "kernelspec": {
   "display_name": "DL",
   "language": "python",
   "name": "python3"
  },
  "language_info": {
   "codemirror_mode": {
    "name": "ipython",
    "version": 3
   },
   "file_extension": ".py",
   "mimetype": "text/x-python",
   "name": "python",
   "nbconvert_exporter": "python",
   "pygments_lexer": "ipython3",
   "version": "3.11.10"
  }
 },
 "nbformat": 4,
 "nbformat_minor": 2
}
